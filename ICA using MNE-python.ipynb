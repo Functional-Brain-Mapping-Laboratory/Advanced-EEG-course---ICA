{
 "cells": [
  {
   "cell_type": "markdown",
   "id": "aadbdd44",
   "metadata": {},
   "source": [
    "# Load DATA"
   ]
  },
  {
   "cell_type": "markdown",
   "id": "01c47123",
   "metadata": {},
   "source": [
    "To load your EEG recording"
   ]
  },
  {
   "cell_type": "code",
   "execution_count": 3,
   "id": "eecefe7f",
   "metadata": {},
   "outputs": [
    {
     "data": {
      "text/plain": [
       "['standard_1005',\n",
       " 'standard_1020',\n",
       " 'standard_alphabetic',\n",
       " 'standard_postfixed',\n",
       " 'standard_prefixed',\n",
       " 'standard_primed',\n",
       " 'biosemi16',\n",
       " 'biosemi32',\n",
       " 'biosemi64',\n",
       " 'biosemi128',\n",
       " 'biosemi160',\n",
       " 'biosemi256',\n",
       " 'easycap-M1',\n",
       " 'easycap-M10',\n",
       " 'EGI_256',\n",
       " 'GSN-HydroCel-32',\n",
       " 'GSN-HydroCel-64_1.0',\n",
       " 'GSN-HydroCel-65_1.0',\n",
       " 'GSN-HydroCel-128',\n",
       " 'GSN-HydroCel-129',\n",
       " 'GSN-HydroCel-256',\n",
       " 'GSN-HydroCel-257',\n",
       " 'mgh60',\n",
       " 'mgh70',\n",
       " 'artinis-octamon',\n",
       " 'artinis-brite23',\n",
       " 'brainproducts-RNP-BA-128']"
      ]
     },
     "execution_count": 3,
     "metadata": {},
     "output_type": "execute_result"
    }
   ],
   "source": [
    "import mne\n",
    "mne.channels.get_builtin_montages()"
   ]
  },
  {
   "cell_type": "code",
   "execution_count": null,
   "id": "13b5f51b",
   "metadata": {},
   "outputs": [],
   "source": [
    "raw = mne.io.read_raw()\n",
    "raw.set_montage(\"\")"
   ]
  },
  {
   "cell_type": "markdown",
   "id": "68182ec3",
   "metadata": {},
   "source": [
    "or download an exemple dataset"
   ]
  },
  {
   "cell_type": "code",
   "execution_count": 31,
   "id": "bcf895b6",
   "metadata": {},
   "outputs": [
    {
     "name": "stdout",
     "output_type": "stream",
     "text": [
      "Opening raw data file C:\\Users\\ferat\\mne_data\\MNE-sample-data\\MEG\\sample\\sample_audvis_filt-0-40_raw.fif...\n",
      "    Read a total of 4 projection items:\n",
      "        PCA-v1 (1 x 102)  idle\n",
      "        PCA-v2 (1 x 102)  idle\n",
      "        PCA-v3 (1 x 102)  idle\n",
      "        Average EEG reference (1 x 60)  idle\n",
      "    Range : 6450 ... 48149 =     42.956 ...   320.665 secs\n",
      "Ready.\n",
      "Removing projector <Projection | PCA-v1, active : False, n_channels : 102>\n",
      "Removing projector <Projection | PCA-v2, active : False, n_channels : 102>\n",
      "Removing projector <Projection | PCA-v3, active : False, n_channels : 102>\n",
      "Reading 0 ... 9009  =      0.000 ...    59.999 secs...\n",
      "Filtering raw data in 1 contiguous segment\n",
      "Setting up band-pass filter from 1 - 30 Hz\n",
      "\n",
      "FIR filter parameters\n",
      "---------------------\n",
      "Designing a one-pass, zero-phase, non-causal bandpass filter:\n",
      "- Windowed time-domain design (firwin) method\n",
      "- Hamming window with 0.0194 passband ripple and 53 dB stopband attenuation\n",
      "- Lower passband edge: 1.00\n",
      "- Lower transition bandwidth: 1.00 Hz (-6 dB cutoff frequency: 0.50 Hz)\n",
      "- Upper passband edge: 30.00 Hz\n",
      "- Upper transition bandwidth: 7.50 Hz (-6 dB cutoff frequency: 33.75 Hz)\n",
      "- Filter length: 497 samples (3.310 sec)\n",
      "\n"
     ]
    },
    {
     "name": "stderr",
     "output_type": "stream",
     "text": [
      "[Parallel(n_jobs=1)]: Using backend SequentialBackend with 1 concurrent workers.\n",
      "[Parallel(n_jobs=1)]: Done   1 out of   1 | elapsed:    0.0s remaining:    0.0s\n",
      "[Parallel(n_jobs=1)]: Done   2 out of   2 | elapsed:    0.0s remaining:    0.0s\n",
      "[Parallel(n_jobs=1)]: Done   3 out of   3 | elapsed:    0.0s remaining:    0.0s\n",
      "[Parallel(n_jobs=1)]: Done   4 out of   4 | elapsed:    0.0s remaining:    0.0s\n",
      "[Parallel(n_jobs=1)]: Done  60 out of  60 | elapsed:    0.0s finished\n"
     ]
    },
    {
     "data": {
      "text/html": [
       "<table class=\"table table-hover table-striped table-sm table-responsive small\">\n",
       "    <tr>\n",
       "        <th>Measurement date</th>\n",
       "        \n",
       "        <td>December 03, 2002  19:01:10 GMT</td>\n",
       "        \n",
       "    </tr>\n",
       "    <tr>\n",
       "        <th>Experimenter</th>\n",
       "        \n",
       "        <td>Unknown</td>\n",
       "        \n",
       "    </tr>\n",
       "        <th>Participant</th>\n",
       "        \n",
       "        <td>Unknown</td>\n",
       "        \n",
       "    </tr>\n",
       "    <tr>\n",
       "        <th>Digitized points</th>\n",
       "        \n",
       "        <td>146 points</td>\n",
       "        \n",
       "    </tr>\n",
       "    <tr>\n",
       "        <th>Good channels</th>\n",
       "        <td>60 EEG, 1 EOG</td>\n",
       "    </tr>\n",
       "    <tr>\n",
       "        <th>Bad channels</th>\n",
       "        <td>EEG 053</td>\n",
       "    </tr>\n",
       "    <tr>\n",
       "        <th>EOG channels</th>\n",
       "        <td>EOG 061</td>\n",
       "    </tr>\n",
       "    <tr>\n",
       "        <th>ECG channels</th>\n",
       "        <td>Not available</td>\n",
       "    \n",
       "    <tr>\n",
       "        <th>Sampling frequency</th>\n",
       "        <td>150.15 Hz</td>\n",
       "    </tr>\n",
       "    \n",
       "    \n",
       "    <tr>\n",
       "        <th>Highpass</th>\n",
       "        <td>1.00 Hz</td>\n",
       "    </tr>\n",
       "    \n",
       "    \n",
       "    <tr>\n",
       "        <th>Lowpass</th>\n",
       "        <td>30.00 Hz</td>\n",
       "    </tr>\n",
       "    \n",
       "    \n",
       "    <tr>\n",
       "        <th>Projections</th>\n",
       "        <td>Average EEG reference : off</td>\n",
       "    </tr>\n",
       "    \n",
       "    \n",
       "    <tr>\n",
       "        <th>Filenames</th>\n",
       "        <td>sample_audvis_filt-0-40_raw.fif</td>\n",
       "    </tr>\n",
       "    \n",
       "    <tr>\n",
       "        <th>Duration</th>\n",
       "        <td>00:00:59 (HH:MM:SS)</td>\n",
       "    </tr>\n",
       "</table>"
      ],
      "text/plain": [
       "<Raw | sample_audvis_filt-0-40_raw.fif, 61 x 9010 (60.0 s), ~7.1 MB, data loaded>"
      ]
     },
     "execution_count": 31,
     "metadata": {},
     "output_type": "execute_result"
    }
   ],
   "source": [
    "import mne\n",
    "from mne.datasets import sample\n",
    "\n",
    "data_path = sample.data_path()\n",
    "meg_path = data_path / 'MEG' / 'sample'\n",
    "raw_fname = meg_path / 'sample_audvis_filt-0-40_raw.fif'\n",
    "\n",
    "raw = mne.io.read_raw_fif(raw_fname).crop(0, 60).pick(['eeg', 'ecg', 'eog']).load_data()\n",
    "raw.filter(1, 30, fir_design='firwin')"
   ]
  },
  {
   "cell_type": "code",
   "execution_count": 17,
   "id": "e54d1ef7",
   "metadata": {},
   "outputs": [
    {
     "data": {
      "text/plain": [
       "<mne_qt_browser._pg_figure.MNEQtBrowser at 0x20fab79e430>"
      ]
     },
     "execution_count": 17,
     "metadata": {},
     "output_type": "execute_result"
    },
    {
     "name": "stdout",
     "output_type": "stream",
     "text": [
      "Channels marked as bad:\n",
      "['EEG 053']\n"
     ]
    }
   ],
   "source": [
    "%matplotlib qt\n",
    "mne.viz.set_browser_backend('qt')  \n",
    "raw.plot()"
   ]
  },
  {
   "cell_type": "markdown",
   "id": "69456404",
   "metadata": {},
   "source": [
    "## ICA"
   ]
  },
  {
   "cell_type": "markdown",
   "id": "0df9f2ea",
   "metadata": {},
   "source": [
    "ICA is [`mne.preprocessing.ica`](https://mne.tools/stable/generated/mne.preprocessing.ICA.html?highlight=ica#mne.preprocessing.ICA)"
   ]
  },
  {
   "cell_type": "code",
   "execution_count": 10,
   "id": "1654e7db",
   "metadata": {},
   "outputs": [],
   "source": [
    "from mne.preprocessing import ICA\n",
    "\n",
    "ica = ICA(n_components=None,\n",
    "          noise_cov=None,\n",
    "          random_state=None,\n",
    "          method='fastica',\n",
    "          fit_params=None,\n",
    "          max_iter='auto',\n",
    "          allow_ref_meg=False, # MEG only\n",
    "          verbose=None)"
   ]
  },
  {
   "cell_type": "markdown",
   "id": "9df8782d",
   "metadata": {},
   "source": [
    "### n_components"
   ]
  },
  {
   "cell_type": "code",
   "execution_count": null,
   "id": "c7bac0b7",
   "metadata": {},
   "outputs": [],
   "source": []
  },
  {
   "cell_type": "markdown",
   "id": "fd3cd9be",
   "metadata": {},
   "source": [
    "### Method"
   ]
  },
  {
   "cell_type": "markdown",
   "id": "a03d5ba2",
   "metadata": {},
   "source": [
    "`fastica`\n",
    "\n",
    "Aapo Hyvärinen. Fast and robust fixed-point algorithms for independent component analysis. IEEE Transactions on Neural Networks, 10(3):626–634, 1999. doi:10.1109/72.761722.\n",
    "\n",
    "`infomax`\n",
    "\n",
    "Anthony J. Bell and Terrence J. Sejnowski. An information-maximization approach to blind separation and blind deconvolution. Neural Computation, 7(6):1129–1159, 1995. doi:10.1162/neco.1995.7.6.1129.\n",
    "\n",
    "`infomax` + `fit_params=dict(extended=True)`\n",
    "\n",
    "Te-Won Lee, Mark Girolami, and Terrence J. Sejnowski. Independent component analysis using an extended infomax algorithm for mixed subgaussian and supergaussian sources. Neural Computation, 11(2):417–441, 1999. doi:10.1162/089976699300016719.\n",
    "\n",
    "`picard`\n",
    "\n",
    "Pierre Ablin, Jean-Francois Cardoso, and Alexandre Gramfort. Faster Independent Component Analysis by preconditioning with hessian approximations. IEEE Transactions on Signal Processing, 66(15):4040–4049, 2018. doi:10.1109/TSP.2018.2844203."
   ]
  },
  {
   "cell_type": "code",
   "execution_count": 13,
   "id": "d3b0eedd",
   "metadata": {},
   "outputs": [],
   "source": [
    "ica = ICA(n_components=59,\n",
    "          noise_cov=None,\n",
    "          random_state=42,\n",
    "          method='picard', # picard solver\n",
    "          fit_params=dict(ortho=False, extended=True), # extended infomax\n",
    "          max_iter='auto',\n",
    "          allow_ref_meg=False, # MEG only\n",
    "          verbose=None)"
   ]
  },
  {
   "cell_type": "markdown",
   "id": "cbcb26ce",
   "metadata": {},
   "source": [
    "### Fit"
   ]
  },
  {
   "cell_type": "code",
   "execution_count": null,
   "id": "cb35c296",
   "metadata": {},
   "outputs": [],
   "source": [
    "fit(inst,\n",
    "    picks=None,\n",
    "    start=None,\n",
    "    stop=None,\n",
    "    decim=None,\n",
    "    reject=None, # preprocessing\n",
    "    flat=None, # preprocessing\n",
    "    tstep=2.0, # preprocessing\n",
    "    reject_by_annotation=True,\n",
    "    verbose=None)"
   ]
  },
  {
   "cell_type": "code",
   "execution_count": 14,
   "id": "0aa2ce85",
   "metadata": {},
   "outputs": [
    {
     "name": "stdout",
     "output_type": "stream",
     "text": [
      "Fitting ICA to data using 59 channels (please be patient, this may take a while)\n",
      "Selecting by number: 59 components\n",
      "Fitting ICA took 11.4s.\n"
     ]
    },
    {
     "data": {
      "text/html": [
       "<table class=\"table table-hover table-striped table-sm table-responsive small\">\n",
       "    <tr>\n",
       "        <th>Method</th>\n",
       "        <td>picard</td>\n",
       "    </tr>\n",
       "    <tr>\n",
       "        <th>Fit</th>\n",
       "        <td>329 iterations on raw data (9010 samples)</td>\n",
       "    </tr>\n",
       "    \n",
       "    <tr>\n",
       "        <th>ICA components</th>\n",
       "        <td>59</td>\n",
       "    </tr>\n",
       "    <tr>\n",
       "        <th>Explained variance</th>\n",
       "        <td>100.0&nbsp;%</td>\n",
       "    </tr>\n",
       "    <tr>\n",
       "        <th>Available PCA components</th>\n",
       "        <td>59</td>\n",
       "    </tr>\n",
       "    <tr>\n",
       "        <th>Channel types</th>\n",
       "        <td>eeg</td>\n",
       "    </tr>\n",
       "    <tr>\n",
       "        <th>ICA components marked for exclusion</th>\n",
       "        <td>&mdash;</td>\n",
       "    </tr>\n",
       "    \n",
       "</table>"
      ],
      "text/plain": [
       "<ICA | raw data decomposition, method: picard (fit in 329 iterations on 9010 samples), 59 ICA components explaining 100.0 % of variance (59 PCA components available), channel types: eeg, no sources marked for exclusion>"
      ]
     },
     "execution_count": 14,
     "metadata": {},
     "output_type": "execute_result"
    }
   ],
   "source": [
    "ica.fit(raw)"
   ]
  },
  {
   "cell_type": "markdown",
   "id": "77ad6bf5",
   "metadata": {},
   "source": [
    "### Selecting Bad components"
   ]
  },
  {
   "cell_type": "code",
   "execution_count": 18,
   "id": "e1719f4b",
   "metadata": {
    "scrolled": true
   },
   "outputs": [
    {
     "name": "stdout",
     "output_type": "stream",
     "text": [
      "    Using multitaper spectrum estimation with 7 DPSS windows\n",
      "Not setting metadata\n",
      "30 matching events found\n",
      "No baseline correction applied\n",
      "0 projection items activated\n"
     ]
    },
    {
     "name": "stderr",
     "output_type": "stream",
     "text": [
      "C:\\Users\\ferat\\Miniconda3\\envs\\eeg39\\lib\\site-packages\\mne\\viz\\epochs.py:543: MatplotlibDeprecationWarning: The join function was deprecated in Matplotlib 3.6 and will be removed two minor releases later.\n",
      "  ax['evoked'].get_shared_x_axes().join(ax['evoked'], ax_im)\n"
     ]
    },
    {
     "name": "stdout",
     "output_type": "stream",
     "text": [
      "    Using multitaper spectrum estimation with 7 DPSS windows\n",
      "Not setting metadata\n",
      "30 matching events found\n",
      "No baseline correction applied\n",
      "0 projection items activated\n"
     ]
    },
    {
     "name": "stderr",
     "output_type": "stream",
     "text": [
      "C:\\Users\\ferat\\Miniconda3\\envs\\eeg39\\lib\\site-packages\\mne\\viz\\epochs.py:543: MatplotlibDeprecationWarning: The join function was deprecated in Matplotlib 3.6 and will be removed two minor releases later.\n",
      "  ax['evoked'].get_shared_x_axes().join(ax['evoked'], ax_im)\n"
     ]
    },
    {
     "name": "stdout",
     "output_type": "stream",
     "text": [
      "    Using multitaper spectrum estimation with 7 DPSS windows\n",
      "Not setting metadata\n",
      "30 matching events found\n",
      "No baseline correction applied\n",
      "0 projection items activated\n"
     ]
    },
    {
     "name": "stderr",
     "output_type": "stream",
     "text": [
      "C:\\Users\\ferat\\Miniconda3\\envs\\eeg39\\lib\\site-packages\\mne\\viz\\epochs.py:543: MatplotlibDeprecationWarning: The join function was deprecated in Matplotlib 3.6 and will be removed two minor releases later.\n",
      "  ax['evoked'].get_shared_x_axes().join(ax['evoked'], ax_im)\n"
     ]
    },
    {
     "name": "stdout",
     "output_type": "stream",
     "text": [
      "    Using multitaper spectrum estimation with 7 DPSS windows\n",
      "Not setting metadata\n",
      "30 matching events found\n",
      "No baseline correction applied\n",
      "0 projection items activated\n"
     ]
    },
    {
     "name": "stderr",
     "output_type": "stream",
     "text": [
      "C:\\Users\\ferat\\Miniconda3\\envs\\eeg39\\lib\\site-packages\\mne\\viz\\epochs.py:543: MatplotlibDeprecationWarning: The join function was deprecated in Matplotlib 3.6 and will be removed two minor releases later.\n",
      "  ax['evoked'].get_shared_x_axes().join(ax['evoked'], ax_im)\n"
     ]
    },
    {
     "name": "stdout",
     "output_type": "stream",
     "text": [
      "    Using multitaper spectrum estimation with 7 DPSS windows\n",
      "Not setting metadata\n",
      "30 matching events found\n",
      "No baseline correction applied\n",
      "0 projection items activated\n"
     ]
    },
    {
     "name": "stderr",
     "output_type": "stream",
     "text": [
      "C:\\Users\\ferat\\Miniconda3\\envs\\eeg39\\lib\\site-packages\\mne\\viz\\epochs.py:543: MatplotlibDeprecationWarning: The join function was deprecated in Matplotlib 3.6 and will be removed two minor releases later.\n",
      "  ax['evoked'].get_shared_x_axes().join(ax['evoked'], ax_im)\n"
     ]
    },
    {
     "name": "stdout",
     "output_type": "stream",
     "text": [
      "    Using multitaper spectrum estimation with 7 DPSS windows\n",
      "Not setting metadata\n",
      "30 matching events found\n",
      "No baseline correction applied\n",
      "0 projection items activated\n"
     ]
    },
    {
     "name": "stderr",
     "output_type": "stream",
     "text": [
      "C:\\Users\\ferat\\Miniconda3\\envs\\eeg39\\lib\\site-packages\\mne\\viz\\epochs.py:543: MatplotlibDeprecationWarning: The join function was deprecated in Matplotlib 3.6 and will be removed two minor releases later.\n",
      "  ax['evoked'].get_shared_x_axes().join(ax['evoked'], ax_im)\n"
     ]
    },
    {
     "name": "stdout",
     "output_type": "stream",
     "text": [
      "    Using multitaper spectrum estimation with 7 DPSS windows\n",
      "Not setting metadata\n",
      "30 matching events found\n",
      "No baseline correction applied\n",
      "0 projection items activated\n"
     ]
    },
    {
     "name": "stderr",
     "output_type": "stream",
     "text": [
      "C:\\Users\\ferat\\Miniconda3\\envs\\eeg39\\lib\\site-packages\\mne\\viz\\epochs.py:543: MatplotlibDeprecationWarning: The join function was deprecated in Matplotlib 3.6 and will be removed two minor releases later.\n",
      "  ax['evoked'].get_shared_x_axes().join(ax['evoked'], ax_im)\n"
     ]
    },
    {
     "name": "stdout",
     "output_type": "stream",
     "text": [
      "    Using multitaper spectrum estimation with 7 DPSS windows\n",
      "Not setting metadata\n",
      "30 matching events found\n",
      "No baseline correction applied\n",
      "0 projection items activated\n"
     ]
    },
    {
     "name": "stderr",
     "output_type": "stream",
     "text": [
      "C:\\Users\\ferat\\Miniconda3\\envs\\eeg39\\lib\\site-packages\\mne\\viz\\epochs.py:543: MatplotlibDeprecationWarning: The join function was deprecated in Matplotlib 3.6 and will be removed two minor releases later.\n",
      "  ax['evoked'].get_shared_x_axes().join(ax['evoked'], ax_im)\n"
     ]
    },
    {
     "name": "stdout",
     "output_type": "stream",
     "text": [
      "    Using multitaper spectrum estimation with 7 DPSS windows\n",
      "Not setting metadata\n",
      "30 matching events found\n",
      "No baseline correction applied\n",
      "0 projection items activated\n"
     ]
    },
    {
     "name": "stderr",
     "output_type": "stream",
     "text": [
      "C:\\Users\\ferat\\Miniconda3\\envs\\eeg39\\lib\\site-packages\\mne\\viz\\epochs.py:543: MatplotlibDeprecationWarning: The join function was deprecated in Matplotlib 3.6 and will be removed two minor releases later.\n",
      "  ax['evoked'].get_shared_x_axes().join(ax['evoked'], ax_im)\n"
     ]
    },
    {
     "name": "stdout",
     "output_type": "stream",
     "text": [
      "    Using multitaper spectrum estimation with 7 DPSS windows\n",
      "Not setting metadata\n",
      "30 matching events found\n",
      "No baseline correction applied\n",
      "0 projection items activated\n"
     ]
    },
    {
     "name": "stderr",
     "output_type": "stream",
     "text": [
      "C:\\Users\\ferat\\Miniconda3\\envs\\eeg39\\lib\\site-packages\\mne\\viz\\epochs.py:543: MatplotlibDeprecationWarning: The join function was deprecated in Matplotlib 3.6 and will be removed two minor releases later.\n",
      "  ax['evoked'].get_shared_x_axes().join(ax['evoked'], ax_im)\n"
     ]
    },
    {
     "name": "stdout",
     "output_type": "stream",
     "text": [
      "    Using multitaper spectrum estimation with 7 DPSS windows\n",
      "Not setting metadata\n",
      "30 matching events found\n",
      "No baseline correction applied\n",
      "0 projection items activated\n"
     ]
    },
    {
     "name": "stderr",
     "output_type": "stream",
     "text": [
      "C:\\Users\\ferat\\Miniconda3\\envs\\eeg39\\lib\\site-packages\\mne\\viz\\epochs.py:543: MatplotlibDeprecationWarning: The join function was deprecated in Matplotlib 3.6 and will be removed two minor releases later.\n",
      "  ax['evoked'].get_shared_x_axes().join(ax['evoked'], ax_im)\n"
     ]
    },
    {
     "name": "stdout",
     "output_type": "stream",
     "text": [
      "    Using multitaper spectrum estimation with 7 DPSS windows\n",
      "Not setting metadata\n",
      "30 matching events found\n",
      "No baseline correction applied\n",
      "0 projection items activated\n"
     ]
    },
    {
     "name": "stderr",
     "output_type": "stream",
     "text": [
      "C:\\Users\\ferat\\Miniconda3\\envs\\eeg39\\lib\\site-packages\\mne\\viz\\epochs.py:543: MatplotlibDeprecationWarning: The join function was deprecated in Matplotlib 3.6 and will be removed two minor releases later.\n",
      "  ax['evoked'].get_shared_x_axes().join(ax['evoked'], ax_im)\n"
     ]
    },
    {
     "name": "stdout",
     "output_type": "stream",
     "text": [
      "    Using multitaper spectrum estimation with 7 DPSS windows\n",
      "Not setting metadata\n",
      "30 matching events found\n",
      "No baseline correction applied\n",
      "0 projection items activated\n"
     ]
    },
    {
     "name": "stderr",
     "output_type": "stream",
     "text": [
      "C:\\Users\\ferat\\Miniconda3\\envs\\eeg39\\lib\\site-packages\\mne\\viz\\epochs.py:543: MatplotlibDeprecationWarning: The join function was deprecated in Matplotlib 3.6 and will be removed two minor releases later.\n",
      "  ax['evoked'].get_shared_x_axes().join(ax['evoked'], ax_im)\n"
     ]
    }
   ],
   "source": [
    "ica.plot_components(inst=raw);"
   ]
  },
  {
   "cell_type": "code",
   "execution_count": 16,
   "id": "5c4b79f0",
   "metadata": {
    "scrolled": true
   },
   "outputs": [
    {
     "name": "stdout",
     "output_type": "stream",
     "text": [
      "Creating RawArray with float64 data, n_channels=59, n_times=9010\n",
      "    Range : 6450 ... 15459 =     42.956 ...   102.954 secs\n",
      "Ready.\n"
     ]
    },
    {
     "data": {
      "text/plain": [
       "<mne_qt_browser._pg_figure.MNEQtBrowser at 0x20fab780ee0>"
      ]
     },
     "execution_count": 16,
     "metadata": {},
     "output_type": "execute_result"
    },
    {
     "name": "stdout",
     "output_type": "stream",
     "text": [
      "    Using multitaper spectrum estimation with 7 DPSS windows\n",
      "Not setting metadata\n",
      "30 matching events found\n",
      "No baseline correction applied\n",
      "0 projection items activated\n"
     ]
    },
    {
     "name": "stderr",
     "output_type": "stream",
     "text": [
      "C:\\Users\\ferat\\Miniconda3\\envs\\eeg39\\lib\\site-packages\\mne\\viz\\epochs.py:543: MatplotlibDeprecationWarning: The join function was deprecated in Matplotlib 3.6 and will be removed two minor releases later.\n",
      "  ax['evoked'].get_shared_x_axes().join(ax['evoked'], ax_im)\n"
     ]
    },
    {
     "name": "stdout",
     "output_type": "stream",
     "text": [
      "    Using multitaper spectrum estimation with 7 DPSS windows\n",
      "Not setting metadata\n",
      "30 matching events found\n",
      "No baseline correction applied\n",
      "0 projection items activated\n"
     ]
    },
    {
     "name": "stderr",
     "output_type": "stream",
     "text": [
      "C:\\Users\\ferat\\Miniconda3\\envs\\eeg39\\lib\\site-packages\\mne\\viz\\epochs.py:543: MatplotlibDeprecationWarning: The join function was deprecated in Matplotlib 3.6 and will be removed two minor releases later.\n",
      "  ax['evoked'].get_shared_x_axes().join(ax['evoked'], ax_im)\n"
     ]
    },
    {
     "name": "stdout",
     "output_type": "stream",
     "text": [
      "    Using multitaper spectrum estimation with 7 DPSS windows\n",
      "Not setting metadata\n",
      "30 matching events found\n",
      "No baseline correction applied\n",
      "0 projection items activated\n"
     ]
    },
    {
     "name": "stderr",
     "output_type": "stream",
     "text": [
      "C:\\Users\\ferat\\Miniconda3\\envs\\eeg39\\lib\\site-packages\\mne\\viz\\epochs.py:543: MatplotlibDeprecationWarning: The join function was deprecated in Matplotlib 3.6 and will be removed two minor releases later.\n",
      "  ax['evoked'].get_shared_x_axes().join(ax['evoked'], ax_im)\n"
     ]
    },
    {
     "name": "stdout",
     "output_type": "stream",
     "text": [
      "    Using multitaper spectrum estimation with 7 DPSS windows\n",
      "Not setting metadata\n",
      "30 matching events found\n",
      "No baseline correction applied\n",
      "0 projection items activated\n"
     ]
    },
    {
     "name": "stderr",
     "output_type": "stream",
     "text": [
      "C:\\Users\\ferat\\Miniconda3\\envs\\eeg39\\lib\\site-packages\\mne\\viz\\epochs.py:543: MatplotlibDeprecationWarning: The join function was deprecated in Matplotlib 3.6 and will be removed two minor releases later.\n",
      "  ax['evoked'].get_shared_x_axes().join(ax['evoked'], ax_im)\n"
     ]
    },
    {
     "name": "stdout",
     "output_type": "stream",
     "text": [
      "    Using multitaper spectrum estimation with 7 DPSS windows\n",
      "Not setting metadata\n",
      "30 matching events found\n",
      "No baseline correction applied\n",
      "0 projection items activated\n"
     ]
    },
    {
     "name": "stderr",
     "output_type": "stream",
     "text": [
      "C:\\Users\\ferat\\Miniconda3\\envs\\eeg39\\lib\\site-packages\\mne\\viz\\epochs.py:543: MatplotlibDeprecationWarning: The join function was deprecated in Matplotlib 3.6 and will be removed two minor releases later.\n",
      "  ax['evoked'].get_shared_x_axes().join(ax['evoked'], ax_im)\n"
     ]
    }
   ],
   "source": [
    "ica.plot_sources(inst=raw);"
   ]
  },
  {
   "cell_type": "markdown",
   "id": "0855df4a",
   "metadata": {},
   "source": [
    "### MNE ICA labels"
   ]
  },
  {
   "cell_type": "markdown",
   "id": "c7057782",
   "metadata": {},
   "source": [
    "Li et al., (2022). MNE-ICALabel: Automatically annotating ICA components with ICLabel in Python. Journal of Open Source Software, 7(76), 4484, https://doi.org/10.21105/joss.04484\n"
   ]
  },
  {
   "cell_type": "code",
   "execution_count": 19,
   "id": "c61d2bfc",
   "metadata": {
    "scrolled": true
   },
   "outputs": [
    {
     "name": "stdout",
     "output_type": "stream",
     "text": [
      "Collecting mne-icalabel\n",
      "  Downloading mne_icalabel-0.4-py3-none-any.whl (10.8 MB)\n",
      "     --------------------------------------- 10.8/10.8 MB 27.3 MB/s eta 0:00:00\n",
      "Requirement already satisfied: numpy>=1.16.0 in c:\\users\\ferat\\miniconda3\\envs\\eeg39\\lib\\site-packages (from mne-icalabel) (1.23.3)\n",
      "Requirement already satisfied: mne>=1.1 in c:\\users\\ferat\\miniconda3\\envs\\eeg39\\lib\\site-packages (from mne-icalabel) (1.1.1)\n",
      "Requirement already satisfied: scipy>=1.2.0 in c:\\users\\ferat\\miniconda3\\envs\\eeg39\\lib\\site-packages (from mne-icalabel) (1.9.1)\n",
      "Collecting torch\n",
      "  Downloading torch-1.12.1-cp39-cp39-win_amd64.whl (161.8 MB)\n",
      "     -------------------------------------- 161.8/161.8 MB 7.9 MB/s eta 0:00:00\n",
      "Requirement already satisfied: pooch in c:\\users\\ferat\\miniconda3\\envs\\eeg39\\lib\\site-packages (from mne-icalabel) (1.6.0)\n",
      "Requirement already satisfied: tqdm in c:\\users\\ferat\\miniconda3\\envs\\eeg39\\lib\\site-packages (from mne>=1.1->mne-icalabel) (4.64.1)\n",
      "Requirement already satisfied: matplotlib in c:\\users\\ferat\\miniconda3\\envs\\eeg39\\lib\\site-packages (from mne>=1.1->mne-icalabel) (3.6.0)\n",
      "Requirement already satisfied: decorator in c:\\users\\ferat\\miniconda3\\envs\\eeg39\\lib\\site-packages (from mne>=1.1->mne-icalabel) (5.1.1)\n",
      "Requirement already satisfied: packaging in c:\\users\\ferat\\miniconda3\\envs\\eeg39\\lib\\site-packages (from mne>=1.1->mne-icalabel) (21.3)\n",
      "Requirement already satisfied: jinja2 in c:\\users\\ferat\\miniconda3\\envs\\eeg39\\lib\\site-packages (from mne>=1.1->mne-icalabel) (3.1.2)\n",
      "Requirement already satisfied: requests>=2.19.0 in c:\\users\\ferat\\miniconda3\\envs\\eeg39\\lib\\site-packages (from pooch->mne-icalabel) (2.28.1)\n",
      "Requirement already satisfied: appdirs>=1.3.0 in c:\\users\\ferat\\miniconda3\\envs\\eeg39\\lib\\site-packages (from pooch->mne-icalabel) (1.4.4)\n",
      "Collecting typing-extensions\n",
      "  Using cached typing_extensions-4.3.0-py3-none-any.whl (25 kB)\n",
      "Requirement already satisfied: pyparsing!=3.0.5,>=2.0.2 in c:\\users\\ferat\\miniconda3\\envs\\eeg39\\lib\\site-packages (from packaging->mne>=1.1->mne-icalabel) (3.0.9)\n",
      "Requirement already satisfied: charset-normalizer<3,>=2 in c:\\users\\ferat\\miniconda3\\envs\\eeg39\\lib\\site-packages (from requests>=2.19.0->pooch->mne-icalabel) (2.1.1)\n",
      "Requirement already satisfied: urllib3<1.27,>=1.21.1 in c:\\users\\ferat\\miniconda3\\envs\\eeg39\\lib\\site-packages (from requests>=2.19.0->pooch->mne-icalabel) (1.26.12)\n",
      "Requirement already satisfied: certifi>=2017.4.17 in c:\\users\\ferat\\miniconda3\\envs\\eeg39\\lib\\site-packages (from requests>=2.19.0->pooch->mne-icalabel) (2022.6.15)\n",
      "Requirement already satisfied: idna<4,>=2.5 in c:\\users\\ferat\\miniconda3\\envs\\eeg39\\lib\\site-packages (from requests>=2.19.0->pooch->mne-icalabel) (3.4)\n",
      "Requirement already satisfied: MarkupSafe>=2.0 in c:\\users\\ferat\\miniconda3\\envs\\eeg39\\lib\\site-packages (from jinja2->mne>=1.1->mne-icalabel) (2.1.1)\n",
      "Requirement already satisfied: contourpy>=1.0.1 in c:\\users\\ferat\\miniconda3\\envs\\eeg39\\lib\\site-packages (from matplotlib->mne>=1.1->mne-icalabel) (1.0.5)\n",
      "Requirement already satisfied: fonttools>=4.22.0 in c:\\users\\ferat\\miniconda3\\envs\\eeg39\\lib\\site-packages (from matplotlib->mne>=1.1->mne-icalabel) (4.37.2)\n",
      "Requirement already satisfied: kiwisolver>=1.0.1 in c:\\users\\ferat\\miniconda3\\envs\\eeg39\\lib\\site-packages (from matplotlib->mne>=1.1->mne-icalabel) (1.4.4)\n",
      "Requirement already satisfied: cycler>=0.10 in c:\\users\\ferat\\miniconda3\\envs\\eeg39\\lib\\site-packages (from matplotlib->mne>=1.1->mne-icalabel) (0.11.0)\n",
      "Requirement already satisfied: python-dateutil>=2.7 in c:\\users\\ferat\\miniconda3\\envs\\eeg39\\lib\\site-packages (from matplotlib->mne>=1.1->mne-icalabel) (2.8.2)\n",
      "Requirement already satisfied: pillow>=6.2.0 in c:\\users\\ferat\\miniconda3\\envs\\eeg39\\lib\\site-packages (from matplotlib->mne>=1.1->mne-icalabel) (9.2.0)\n",
      "Requirement already satisfied: colorama in c:\\users\\ferat\\miniconda3\\envs\\eeg39\\lib\\site-packages (from tqdm->mne>=1.1->mne-icalabel) (0.4.5)\n",
      "Requirement already satisfied: six>=1.5 in c:\\users\\ferat\\miniconda3\\envs\\eeg39\\lib\\site-packages (from python-dateutil>=2.7->matplotlib->mne>=1.1->mne-icalabel) (1.16.0)\n",
      "Installing collected packages: typing-extensions, torch, mne-icalabel\n",
      "Successfully installed mne-icalabel-0.4 torch-1.12.1 typing-extensions-4.3.0\n"
     ]
    }
   ],
   "source": [
    "!pip install mne-icalabel"
   ]
  },
  {
   "cell_type": "code",
   "execution_count": 20,
   "id": "628e244a",
   "metadata": {
    "scrolled": true
   },
   "outputs": [
    {
     "name": "stderr",
     "output_type": "stream",
     "text": [
      "C:\\Users\\ferat\\Miniconda3\\envs\\eeg39\\lib\\site-packages\\tqdm\\auto.py:22: TqdmWarning: IProgress not found. Please update jupyter and ipywidgets. See https://ipywidgets.readthedocs.io/en/stable/user_install.html\n",
      "  from .autonotebook import tqdm as notebook_tqdm\n",
      "C:\\Users\\ferat\\AppData\\Local\\Temp\\ipykernel_1768\\3350189304.py:4: RuntimeWarning: The provided Raw instance does not seem to be referenced to a common average reference (CAR). ICLabel was designed to classify features extracted from an EEG dataset referenced to a CAR (see the 'set_eeg_reference()' method for Raw and Epochs instances).\n",
      "  label_components(raw, ica, method='iclabel')\n",
      "C:\\Users\\ferat\\AppData\\Local\\Temp\\ipykernel_1768\\3350189304.py:4: RuntimeWarning: The provided Raw instance is not filtered between 1 and 100 Hz. ICLabel was designed to classify features extracted from an EEG dataset bandpass filtered between 1 and 100 Hz (see the 'filter()' method for Raw and Epochs instances).\n",
      "  label_components(raw, ica, method='iclabel')\n"
     ]
    },
    {
     "data": {
      "text/plain": [
       "{'y_pred_proba': array([0.9278839 , 0.7647001 , 0.9970324 , 0.9798221 , 0.5220299 ,\n",
       "        0.9901547 , 0.9239477 , 0.52995855, 0.97791314, 0.96155393,\n",
       "        0.99630463, 0.97647846, 0.9796555 , 0.7804446 , 0.5917051 ,\n",
       "        0.70175546, 0.99670655, 0.5928928 , 0.55599785, 0.6810263 ,\n",
       "        0.64349407, 0.88102883, 0.9994302 , 0.37597826, 0.8864524 ,\n",
       "        0.56222326, 0.6092847 , 0.9232826 , 0.97671515, 0.62081695,\n",
       "        0.46128488, 0.7829498 , 0.89938015, 0.8766513 , 0.48444182,\n",
       "        0.5705153 , 0.5365608 , 0.62708753, 0.8230916 , 0.81559336,\n",
       "        0.89698815, 0.4400778 , 0.6991721 , 0.79421175, 0.5745903 ,\n",
       "        0.4575032 , 0.80572164, 0.56198573, 0.82850015, 0.79314744,\n",
       "        0.56466633, 0.96095467, 0.6075463 , 0.7045741 , 0.5564039 ,\n",
       "        0.5045259 , 0.45872688, 0.9676861 , 0.91065294], dtype=float32),\n",
       " 'labels': ['eye blink',\n",
       "  'brain',\n",
       "  'brain',\n",
       "  'brain',\n",
       "  'heart beat',\n",
       "  'brain',\n",
       "  'brain',\n",
       "  'brain',\n",
       "  'brain',\n",
       "  'brain',\n",
       "  'brain',\n",
       "  'brain',\n",
       "  'brain',\n",
       "  'brain',\n",
       "  'muscle artifact',\n",
       "  'brain',\n",
       "  'brain',\n",
       "  'muscle artifact',\n",
       "  'brain',\n",
       "  'brain',\n",
       "  'other',\n",
       "  'brain',\n",
       "  'brain',\n",
       "  'muscle artifact',\n",
       "  'brain',\n",
       "  'brain',\n",
       "  'brain',\n",
       "  'brain',\n",
       "  'brain',\n",
       "  'other',\n",
       "  'other',\n",
       "  'brain',\n",
       "  'brain',\n",
       "  'brain',\n",
       "  'other',\n",
       "  'muscle artifact',\n",
       "  'brain',\n",
       "  'muscle artifact',\n",
       "  'other',\n",
       "  'other',\n",
       "  'other',\n",
       "  'other',\n",
       "  'other',\n",
       "  'brain',\n",
       "  'other',\n",
       "  'muscle artifact',\n",
       "  'other',\n",
       "  'muscle artifact',\n",
       "  'other',\n",
       "  'muscle artifact',\n",
       "  'other',\n",
       "  'other',\n",
       "  'other',\n",
       "  'other',\n",
       "  'muscle artifact',\n",
       "  'other',\n",
       "  'muscle artifact',\n",
       "  'other',\n",
       "  'other']}"
      ]
     },
     "execution_count": 20,
     "metadata": {},
     "output_type": "execute_result"
    }
   ],
   "source": [
    "from mne_icalabel import label_components\n",
    "\n",
    "# assuming you have a Raw and ICA instance previously fitted\n",
    "label_components(raw, ica, method='iclabel')"
   ]
  },
  {
   "cell_type": "markdown",
   "id": "669c00cf",
   "metadata": {},
   "source": [
    "### Apply"
   ]
  },
  {
   "cell_type": "code",
   "execution_count": 21,
   "id": "98386fa2",
   "metadata": {},
   "outputs": [
    {
     "name": "stdout",
     "output_type": "stream",
     "text": [
      "Applying ICA to Raw instance\n",
      "    Transforming to ICA space (59 components)\n",
      "    Zeroing out 0 ICA components\n",
      "    Projecting back using 59 PCA components\n"
     ]
    }
   ],
   "source": [
    "raw_ica = ica.apply(raw)"
   ]
  },
  {
   "cell_type": "code",
   "execution_count": 22,
   "id": "f4122d7c",
   "metadata": {},
   "outputs": [
    {
     "data": {
      "text/plain": [
       "<mne_qt_browser._pg_figure.MNEQtBrowser at 0x20fb57b9430>"
      ]
     },
     "execution_count": 22,
     "metadata": {},
     "output_type": "execute_result"
    },
    {
     "name": "stdout",
     "output_type": "stream",
     "text": [
      "Channels marked as bad:\n",
      "['EEG 053']\n"
     ]
    }
   ],
   "source": [
    "raw_ica.plot()"
   ]
  },
  {
   "cell_type": "markdown",
   "id": "37a015dc",
   "metadata": {},
   "source": [
    "### Additional Preprocessing steps"
   ]
  },
  {
   "cell_type": "code",
   "execution_count": 29,
   "id": "c1f85556",
   "metadata": {},
   "outputs": [
    {
     "name": "stdout",
     "output_type": "stream",
     "text": [
      "Interpolating bad channels\n",
      "    Automatic origin fit: head of radius 91.0 mm\n",
      "Computing interpolation matrix from 59 sensor positions\n",
      "Interpolating 1 sensors\n"
     ]
    },
    {
     "data": {
      "text/html": [
       "<table class=\"table table-hover table-striped table-sm table-responsive small\">\n",
       "    <tr>\n",
       "        <th>Measurement date</th>\n",
       "        \n",
       "        <td>December 03, 2002  19:01:10 GMT</td>\n",
       "        \n",
       "    </tr>\n",
       "    <tr>\n",
       "        <th>Experimenter</th>\n",
       "        \n",
       "        <td>Unknown</td>\n",
       "        \n",
       "    </tr>\n",
       "        <th>Participant</th>\n",
       "        \n",
       "        <td>Unknown</td>\n",
       "        \n",
       "    </tr>\n",
       "    <tr>\n",
       "        <th>Digitized points</th>\n",
       "        \n",
       "        <td>146 points</td>\n",
       "        \n",
       "    </tr>\n",
       "    <tr>\n",
       "        <th>Good channels</th>\n",
       "        <td>60 EEG</td>\n",
       "    </tr>\n",
       "    <tr>\n",
       "        <th>Bad channels</th>\n",
       "        <td>None</td>\n",
       "    </tr>\n",
       "    <tr>\n",
       "        <th>EOG channels</th>\n",
       "        <td>Not available</td>\n",
       "    </tr>\n",
       "    <tr>\n",
       "        <th>ECG channels</th>\n",
       "        <td>Not available</td>\n",
       "    \n",
       "    <tr>\n",
       "        <th>Sampling frequency</th>\n",
       "        <td>150.15 Hz</td>\n",
       "    </tr>\n",
       "    \n",
       "    \n",
       "    <tr>\n",
       "        <th>Highpass</th>\n",
       "        <td>1.00 Hz</td>\n",
       "    </tr>\n",
       "    \n",
       "    \n",
       "    <tr>\n",
       "        <th>Lowpass</th>\n",
       "        <td>30.00 Hz</td>\n",
       "    </tr>\n",
       "    \n",
       "    \n",
       "    <tr>\n",
       "        <th>Projections</th>\n",
       "        <td>Average EEG reference : off</td>\n",
       "    </tr>\n",
       "    \n",
       "    \n",
       "    <tr>\n",
       "        <th>Filenames</th>\n",
       "        <td>sample_audvis_filt-0-40_raw.fif</td>\n",
       "    </tr>\n",
       "    \n",
       "    <tr>\n",
       "        <th>Duration</th>\n",
       "        <td>00:00:59 (HH:MM:SS)</td>\n",
       "    </tr>\n",
       "</table>"
      ],
      "text/plain": [
       "<Raw | sample_audvis_filt-0-40_raw.fif, 60 x 9010 (60.0 s), ~7.1 MB, data loaded>"
      ]
     },
     "execution_count": 29,
     "metadata": {},
     "output_type": "execute_result"
    }
   ],
   "source": [
    "raw_ica.interpolate_bads()"
   ]
  },
  {
   "cell_type": "code",
   "execution_count": 30,
   "id": "36c01c25",
   "metadata": {},
   "outputs": [
    {
     "name": "stdout",
     "output_type": "stream",
     "text": [
      "EEG channel type selected for re-referencing\n",
      "Applying average reference.\n",
      "Applying a custom ('EEG',) reference.\n",
      "Removing existing average EEG reference projection.\n"
     ]
    },
    {
     "data": {
      "text/html": [
       "<table class=\"table table-hover table-striped table-sm table-responsive small\">\n",
       "    <tr>\n",
       "        <th>Measurement date</th>\n",
       "        \n",
       "        <td>December 03, 2002  19:01:10 GMT</td>\n",
       "        \n",
       "    </tr>\n",
       "    <tr>\n",
       "        <th>Experimenter</th>\n",
       "        \n",
       "        <td>Unknown</td>\n",
       "        \n",
       "    </tr>\n",
       "        <th>Participant</th>\n",
       "        \n",
       "        <td>Unknown</td>\n",
       "        \n",
       "    </tr>\n",
       "    <tr>\n",
       "        <th>Digitized points</th>\n",
       "        \n",
       "        <td>146 points</td>\n",
       "        \n",
       "    </tr>\n",
       "    <tr>\n",
       "        <th>Good channels</th>\n",
       "        <td>60 EEG</td>\n",
       "    </tr>\n",
       "    <tr>\n",
       "        <th>Bad channels</th>\n",
       "        <td>None</td>\n",
       "    </tr>\n",
       "    <tr>\n",
       "        <th>EOG channels</th>\n",
       "        <td>Not available</td>\n",
       "    </tr>\n",
       "    <tr>\n",
       "        <th>ECG channels</th>\n",
       "        <td>Not available</td>\n",
       "    \n",
       "    <tr>\n",
       "        <th>Sampling frequency</th>\n",
       "        <td>150.15 Hz</td>\n",
       "    </tr>\n",
       "    \n",
       "    \n",
       "    <tr>\n",
       "        <th>Highpass</th>\n",
       "        <td>1.00 Hz</td>\n",
       "    </tr>\n",
       "    \n",
       "    \n",
       "    <tr>\n",
       "        <th>Lowpass</th>\n",
       "        <td>30.00 Hz</td>\n",
       "    </tr>\n",
       "    \n",
       "    \n",
       "    \n",
       "    <tr>\n",
       "        <th>Filenames</th>\n",
       "        <td>sample_audvis_filt-0-40_raw.fif</td>\n",
       "    </tr>\n",
       "    \n",
       "    <tr>\n",
       "        <th>Duration</th>\n",
       "        <td>00:00:59 (HH:MM:SS)</td>\n",
       "    </tr>\n",
       "</table>"
      ],
      "text/plain": [
       "<Raw | sample_audvis_filt-0-40_raw.fif, 60 x 9010 (60.0 s), ~7.1 MB, data loaded>"
      ]
     },
     "execution_count": 30,
     "metadata": {},
     "output_type": "execute_result"
    }
   ],
   "source": [
    "raw_ica.set_eeg_reference('average')"
   ]
  },
  {
   "cell_type": "markdown",
   "id": "0784ed2e",
   "metadata": {},
   "source": [
    "### Save"
   ]
  },
  {
   "cell_type": "markdown",
   "id": "fb66a9d4",
   "metadata": {},
   "source": [
    "#### ICA"
   ]
  },
  {
   "cell_type": "code",
   "execution_count": null,
   "id": "b339be10",
   "metadata": {},
   "outputs": [],
   "source": [
    "ica.save(\"my_ica-ica.fif\")"
   ]
  },
  {
   "cell_type": "markdown",
   "id": "e16fbd75",
   "metadata": {},
   "source": [
    "#### EEG"
   ]
  },
  {
   "cell_type": "code",
   "execution_count": 27,
   "id": "d7f0753c",
   "metadata": {
    "scrolled": true
   },
   "outputs": [
    {
     "name": "stderr",
     "output_type": "stream",
     "text": [
      "C:\\Users\\ferat\\AppData\\Local\\Temp\\ipykernel_1768\\2533428595.py:1: RuntimeWarning: Raw instance has unapplied projectors. Consider applying them before exporting with raw.apply_proj().\n",
      "  mne.export.export_raw('raw_ica.vhdr', raw)\n"
     ]
    }
   ],
   "source": [
    "mne.export.export_raw('raw_ica.vhdr', raw)"
   ]
  }
 ],
 "metadata": {
  "kernelspec": {
   "display_name": "Python 3 (ipykernel)",
   "language": "python",
   "name": "python3"
  },
  "language_info": {
   "codemirror_mode": {
    "name": "ipython",
    "version": 3
   },
   "file_extension": ".py",
   "mimetype": "text/x-python",
   "name": "python",
   "nbconvert_exporter": "python",
   "pygments_lexer": "ipython3",
   "version": "3.9.13"
  }
 },
 "nbformat": 4,
 "nbformat_minor": 5
}
