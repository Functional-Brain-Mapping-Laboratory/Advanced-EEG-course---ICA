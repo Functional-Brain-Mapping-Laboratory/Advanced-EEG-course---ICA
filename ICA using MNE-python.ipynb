{
 "cells": [
  {
   "cell_type": "markdown",
   "id": "aadbdd44",
   "metadata": {},
   "source": [
    "# Load DATA"
   ]
  },
  {
   "cell_type": "markdown",
   "id": "01c47123",
   "metadata": {},
   "source": [
    "To load your EEG recording"
   ]
  },
  {
   "cell_type": "code",
   "execution_count": 3,
   "id": "eecefe7f",
   "metadata": {},
   "outputs": [
    {
     "data": {
      "text/plain": [
       "['standard_1005',\n",
       " 'standard_1020',\n",
       " 'standard_alphabetic',\n",
       " 'standard_postfixed',\n",
       " 'standard_prefixed',\n",
       " 'standard_primed',\n",
       " 'biosemi16',\n",
       " 'biosemi32',\n",
       " 'biosemi64',\n",
       " 'biosemi128',\n",
       " 'biosemi160',\n",
       " 'biosemi256',\n",
       " 'easycap-M1',\n",
       " 'easycap-M10',\n",
       " 'EGI_256',\n",
       " 'GSN-HydroCel-32',\n",
       " 'GSN-HydroCel-64_1.0',\n",
       " 'GSN-HydroCel-65_1.0',\n",
       " 'GSN-HydroCel-128',\n",
       " 'GSN-HydroCel-129',\n",
       " 'GSN-HydroCel-256',\n",
       " 'GSN-HydroCel-257',\n",
       " 'mgh60',\n",
       " 'mgh70',\n",
       " 'artinis-octamon',\n",
       " 'artinis-brite23',\n",
       " 'brainproducts-RNP-BA-128']"
      ]
     },
     "execution_count": 3,
     "metadata": {},
     "output_type": "execute_result"
    }
   ],
   "source": [
    "import mne\n",
    "mne.channels.get_builtin_montages()"
   ]
  },
  {
   "cell_type": "code",
   "execution_count": null,
   "id": "13b5f51b",
   "metadata": {},
   "outputs": [],
   "source": [
    "raw = mne.io.read_raw()\n",
    "raw.set_montage(\"\")"
   ]
  },
  {
   "cell_type": "markdown",
   "id": "68182ec3",
   "metadata": {},
   "source": [
    "or download an exemple dataset"
   ]
  },
  {
   "cell_type": "code",
   "execution_count": 31,
   "id": "bcf895b6",
   "metadata": {},
   "outputs": [
    {
     "name": "stdout",
     "output_type": "stream",
     "text": [
      "Opening raw data file C:\\Users\\ferat\\mne_data\\MNE-sample-data\\MEG\\sample\\sample_audvis_filt-0-40_raw.fif...\n",
      "    Read a total of 4 projection items:\n",
      "        PCA-v1 (1 x 102)  idle\n",
      "        PCA-v2 (1 x 102)  idle\n",
      "        PCA-v3 (1 x 102)  idle\n",
      "        Average EEG reference (1 x 60)  idle\n",
      "    Range : 6450 ... 48149 =     42.956 ...   320.665 secs\n",
      "Ready.\n",
      "Removing projector <Projection | PCA-v1, active : False, n_channels : 102>\n",
      "Removing projector <Projection | PCA-v2, active : False, n_channels : 102>\n",
      "Removing projector <Projection | PCA-v3, active : False, n_channels : 102>\n",
      "Reading 0 ... 9009  =      0.000 ...    59.999 secs...\n",
      "Filtering raw data in 1 contiguous segment\n",
      "Setting up band-pass filter from 1 - 30 Hz\n",
      "\n",
      "FIR filter parameters\n",
      "---------------------\n",
      "Designing a one-pass, zero-phase, non-causal bandpass filter:\n",
      "- Windowed time-domain design (firwin) method\n",
      "- Hamming window with 0.0194 passband ripple and 53 dB stopband attenuation\n",
      "- Lower passband edge: 1.00\n",
      "- Lower transition bandwidth: 1.00 Hz (-6 dB cutoff frequency: 0.50 Hz)\n",
      "- Upper passband edge: 30.00 Hz\n",
      "- Upper transition bandwidth: 7.50 Hz (-6 dB cutoff frequency: 33.75 Hz)\n",
      "- Filter length: 497 samples (3.310 sec)\n",
      "\n"
     ]
    },
    {
     "name": "stderr",
     "output_type": "stream",
     "text": [
      "[Parallel(n_jobs=1)]: Using backend SequentialBackend with 1 concurrent workers.\n",
      "[Parallel(n_jobs=1)]: Done   1 out of   1 | elapsed:    0.0s remaining:    0.0s\n",
      "[Parallel(n_jobs=1)]: Done   2 out of   2 | elapsed:    0.0s remaining:    0.0s\n",
      "[Parallel(n_jobs=1)]: Done   3 out of   3 | elapsed:    0.0s remaining:    0.0s\n",
      "[Parallel(n_jobs=1)]: Done   4 out of   4 | elapsed:    0.0s remaining:    0.0s\n",
      "[Parallel(n_jobs=1)]: Done  60 out of  60 | elapsed:    0.0s finished\n"
     ]
    },
    {
     "data": {
      "text/html": [
       "<table class=\"table table-hover table-striped table-sm table-responsive small\">\n",
       "    <tr>\n",
       "        <th>Measurement date</th>\n",
       "        \n",
       "        <td>December 03, 2002  19:01:10 GMT</td>\n",
       "        \n",
       "    </tr>\n",
       "    <tr>\n",
       "        <th>Experimenter</th>\n",
       "        \n",
       "        <td>Unknown</td>\n",
       "        \n",
       "    </tr>\n",
       "        <th>Participant</th>\n",
       "        \n",
       "        <td>Unknown</td>\n",
       "        \n",
       "    </tr>\n",
       "    <tr>\n",
       "        <th>Digitized points</th>\n",
       "        \n",
       "        <td>146 points</td>\n",
       "        \n",
       "    </tr>\n",
       "    <tr>\n",
       "        <th>Good channels</th>\n",
       "        <td>60 EEG, 1 EOG</td>\n",
       "    </tr>\n",
       "    <tr>\n",
       "        <th>Bad channels</th>\n",
       "        <td>EEG 053</td>\n",
       "    </tr>\n",
       "    <tr>\n",
       "        <th>EOG channels</th>\n",
       "        <td>EOG 061</td>\n",
       "    </tr>\n",
       "    <tr>\n",
       "        <th>ECG channels</th>\n",
       "        <td>Not available</td>\n",
       "    \n",
       "    <tr>\n",
       "        <th>Sampling frequency</th>\n",
       "        <td>150.15 Hz</td>\n",
       "    </tr>\n",
       "    \n",
       "    \n",
       "    <tr>\n",
       "        <th>Highpass</th>\n",
       "        <td>1.00 Hz</td>\n",
       "    </tr>\n",
       "    \n",
       "    \n",
       "    <tr>\n",
       "        <th>Lowpass</th>\n",
       "        <td>30.00 Hz</td>\n",
       "    </tr>\n",
       "    \n",
       "    \n",
       "    <tr>\n",
       "        <th>Projections</th>\n",
       "        <td>Average EEG reference : off</td>\n",
       "    </tr>\n",
       "    \n",
       "    \n",
       "    <tr>\n",
       "        <th>Filenames</th>\n",
       "        <td>sample_audvis_filt-0-40_raw.fif</td>\n",
       "    </tr>\n",
       "    \n",
       "    <tr>\n",
       "        <th>Duration</th>\n",
       "        <td>00:00:59 (HH:MM:SS)</td>\n",
       "    </tr>\n",
       "</table>"
      ],
      "text/plain": [
       "<Raw | sample_audvis_filt-0-40_raw.fif, 61 x 9010 (60.0 s), ~7.1 MB, data loaded>"
      ]
     },
     "execution_count": 31,
     "metadata": {},
     "output_type": "execute_result"
    }
   ],
   "source": [
    "import mne\n",
    "from mne.datasets import sample\n",
    "\n",
    "data_path = sample.data_path()\n",
    "meg_path = data_path / 'MEG' / 'sample'\n",
    "raw_fname = meg_path / 'sample_audvis_filt-0-40_raw.fif'\n",
    "\n",
    "raw = mne.io.read_raw_fif(raw_fname).crop(0, 60).pick(['eeg', 'ecg', 'eog']).load_data()\n",
    "raw.filter(1, 30, fir_design='firwin')"
   ]
  },
  {
   "cell_type": "code",
   "execution_count": 17,
   "id": "e54d1ef7",
   "metadata": {},
   "outputs": [
    {
     "data": {
      "text/plain": [
       "<mne_qt_browser._pg_figure.MNEQtBrowser at 0x20fab79e430>"
      ]
     },
     "execution_count": 17,
     "metadata": {},
     "output_type": "execute_result"
    },
    {
     "name": "stdout",
     "output_type": "stream",
     "text": [
      "Channels marked as bad:\n",
      "['EEG 053']\n"
     ]
    }
   ],
   "source": [
    "%matplotlib qt\n",
    "mne.viz.set_browser_backend('qt')  \n",
    "raw.plot()"
   ]
  },
  {
   "cell_type": "markdown",
   "id": "69456404",
   "metadata": {},
   "source": [
    "## ICA"
   ]
  },
  {
   "cell_type": "markdown",
   "id": "0df9f2ea",
   "metadata": {},
   "source": [
    "ICA is [`mne.preprocessing.ica`](https://mne.tools/stable/generated/mne.preprocessing.ICA.html?highlight=ica#mne.preprocessing.ICA)"
   ]
  },
  {
   "cell_type": "code",
   "execution_count": 1,
   "id": "1654e7db",
   "metadata": {},
   "outputs": [
    {
     "name": "stdout",
     "output_type": "stream",
     "text": [
      "\u001b[1;31mInit signature:\u001b[0m\n",
      "\u001b[0mICA\u001b[0m\u001b[1;33m(\u001b[0m\u001b[1;33m\n",
      "\u001b[0m    \u001b[0mn_components\u001b[0m\u001b[1;33m=\u001b[0m\u001b[1;32mNone\u001b[0m\u001b[1;33m,\u001b[0m\u001b[1;33m\n",
      "\u001b[0m    \u001b[1;33m*\u001b[0m\u001b[1;33m,\u001b[0m\u001b[1;33m\n",
      "\u001b[0m    \u001b[0mnoise_cov\u001b[0m\u001b[1;33m=\u001b[0m\u001b[1;32mNone\u001b[0m\u001b[1;33m,\u001b[0m\u001b[1;33m\n",
      "\u001b[0m    \u001b[0mrandom_state\u001b[0m\u001b[1;33m=\u001b[0m\u001b[1;32mNone\u001b[0m\u001b[1;33m,\u001b[0m\u001b[1;33m\n",
      "\u001b[0m    \u001b[0mmethod\u001b[0m\u001b[1;33m=\u001b[0m\u001b[1;34m'fastica'\u001b[0m\u001b[1;33m,\u001b[0m\u001b[1;33m\n",
      "\u001b[0m    \u001b[0mfit_params\u001b[0m\u001b[1;33m=\u001b[0m\u001b[1;32mNone\u001b[0m\u001b[1;33m,\u001b[0m\u001b[1;33m\n",
      "\u001b[0m    \u001b[0mmax_iter\u001b[0m\u001b[1;33m=\u001b[0m\u001b[1;34m'auto'\u001b[0m\u001b[1;33m,\u001b[0m\u001b[1;33m\n",
      "\u001b[0m    \u001b[0mallow_ref_meg\u001b[0m\u001b[1;33m=\u001b[0m\u001b[1;32mFalse\u001b[0m\u001b[1;33m,\u001b[0m\u001b[1;33m\n",
      "\u001b[0m    \u001b[0mverbose\u001b[0m\u001b[1;33m=\u001b[0m\u001b[1;32mNone\u001b[0m\u001b[1;33m,\u001b[0m\u001b[1;33m\n",
      "\u001b[0m\u001b[1;33m)\u001b[0m\u001b[1;33m\u001b[0m\u001b[1;33m\u001b[0m\u001b[0m\n",
      "\u001b[1;31mDocstring:\u001b[0m     \n",
      "Data decomposition using Independent Component Analysis (ICA).\n",
      "\n",
      "This object estimates independent components from :class:`mne.io.Raw`,\n",
      ":class:`mne.Epochs`, or :class:`mne.Evoked` objects. Components can\n",
      "optionally be removed (for artifact repair) prior to signal reconstruction.\n",
      "\n",
      ".. warning:: ICA is sensitive to low-frequency drifts and therefore\n",
      "             requires the data to be high-pass filtered prior to fitting.\n",
      "             Typically, a cutoff frequency of 1 Hz is recommended.\n",
      "\n",
      "Parameters\n",
      "----------\n",
      "n_components : int | float | None\n",
      "    Number of principal components (from the pre-whitening PCA step) that\n",
      "    are passed to the ICA algorithm during fitting:\n",
      "\n",
      "    - :class:`int`\n",
      "        Must be greater than 1 and less than or equal to the number of\n",
      "        channels.\n",
      "    - :class:`float` between 0 and 1 (exclusive)\n",
      "        Will select the smallest number of components required to explain\n",
      "        the cumulative variance of the data greater than ``n_components``.\n",
      "        Consider this hypothetical example: we have 3 components, the first\n",
      "        explaining 70%, the second 20%, and the third the remaining 10%\n",
      "        of the variance. Passing 0.8 here (corresponding to 80% of\n",
      "        explained variance) would yield the first two components,\n",
      "        explaining 90% of the variance: only by using both components the\n",
      "        requested threshold of 80% explained variance can be exceeded. The\n",
      "        third component, on the other hand, would be excluded.\n",
      "    - ``None``\n",
      "        ``0.999999`` will be used. This is done to avoid numerical\n",
      "        stability problems when whitening, particularly when working with\n",
      "        rank-deficient data.\n",
      "\n",
      "    Defaults to ``None``. The actual number used when executing the\n",
      "    :meth:`ICA.fit` method will be stored in the attribute\n",
      "    ``n_components_`` (note the trailing underscore).\n",
      "\n",
      "    .. versionchanged:: 0.22\n",
      "       For a :class:`python:float`, the number of components will account\n",
      "       for *greater than* the given variance level instead of *less than or\n",
      "       equal to* it. The default (None) will also take into account the\n",
      "       rank deficiency of the data.\n",
      "noise_cov : None | instance of Covariance\n",
      "    Noise covariance used for pre-whitening. If None (default), channels\n",
      "    are scaled to unit variance (\"z-standardized\") as a group by channel\n",
      "    type prior to the whitening by PCA.\n",
      "\n",
      "random_state : None | int | instance of ~numpy.random.RandomState\n",
      "    A seed for the NumPy random number generator (RNG). If ``None`` (default),\n",
      "    the seed will be  obtained from the operating system\n",
      "    (see  :class:`~numpy.random.RandomState` for details), meaning it will most\n",
      "    likely produce different output every time this function or method is run.\n",
      "    To achieve reproducible results, pass a value here to explicitly initialize\n",
      "    the RNG with a defined state.\n",
      "method : 'fastica' | 'infomax' | 'picard'\n",
      "    The ICA method to use in the fit method. Use the ``fit_params`` argument\n",
      "    to set additional parameters. Specifically, if you want Extended\n",
      "    Infomax, set ``method='infomax'`` and ``fit_params=dict(extended=True)``\n",
      "    (this also works for ``method='picard'``). Defaults to ``'fastica'``.\n",
      "    For reference, see :footcite:`Hyvarinen1999,BellSejnowski1995,LeeEtAl1999,AblinEtAl2018`.\n",
      "fit_params : dict | None\n",
      "    Additional parameters passed to the ICA estimator as specified by\n",
      "    ``method``. Allowed entries are determined by the various algorithm\n",
      "    implementations: see :class:`~sklearn.decomposition.FastICA`,\n",
      "    :func:`~picard.picard`, :func:`~mne.preprocessing.infomax`.\n",
      "max_iter : int | 'auto'\n",
      "    Maximum number of iterations during fit. If ``'auto'``, it\n",
      "    will set maximum iterations to ``1000`` for ``'fastica'``\n",
      "    and to ``500`` for ``'infomax'`` or ``'picard'``. The actual number of\n",
      "    iterations it took :meth:`ICA.fit` to complete will be stored in the\n",
      "    ``n_iter_`` attribute.\n",
      "allow_ref_meg : bool\n",
      "    Allow ICA on MEG reference channels. Defaults to False.\n",
      "\n",
      "    .. versionadded:: 0.18\n",
      "\n",
      "verbose : bool | str | int | None\n",
      "    Control verbosity of the logging output. If ``None``, use the default\n",
      "    verbosity level. See the :ref:`logging documentation <tut-logging>` and\n",
      "    :func:`mne.verbose` for details. Should only be passed as a keyword\n",
      "    argument.\n",
      "\n",
      "Attributes\n",
      "----------\n",
      "current_fit : str\n",
      "    Flag informing about which data type (raw or epochs) was used for the\n",
      "    fit.\n",
      "ch_names : list-like\n",
      "    Channel names resulting from initial picking.\n",
      "n_components_ : int\n",
      "    If fit, the actual number of PCA components used for ICA decomposition.\n",
      "pre_whitener_ : ndarray, shape (n_channels, 1) or (n_channels, n_channels)\n",
      "    If fit, array used to pre-whiten the data prior to PCA.\n",
      "pca_components_ : ndarray, shape ``(n_channels, n_channels)``\n",
      "    If fit, the PCA components.\n",
      "pca_mean_ : ndarray, shape (n_channels,)\n",
      "    If fit, the mean vector used to center the data before doing the PCA.\n",
      "pca_explained_variance_ : ndarray, shape ``(n_channels,)``\n",
      "    If fit, the variance explained by each PCA component.\n",
      "mixing_matrix_ : ndarray, shape ``(n_components_, n_components_)``\n",
      "    If fit, the whitened mixing matrix to go back from ICA space to PCA\n",
      "    space.\n",
      "    It is, in combination with the ``pca_components_``, used by\n",
      "    :meth:`ICA.apply` and :meth:`ICA.get_components` to re-mix/project\n",
      "    a subset of the ICA components into the observed channel space.\n",
      "    The former method also removes the pre-whitening (z-scaling) and the\n",
      "    de-meaning.\n",
      "unmixing_matrix_ : ndarray, shape ``(n_components_, n_components_)``\n",
      "    If fit, the whitened matrix to go from PCA space to ICA space.\n",
      "    Used, in combination with the ``pca_components_``, by the methods\n",
      "    :meth:`ICA.get_sources` and :meth:`ICA.apply` to unmix the observed\n",
      "    data.\n",
      "exclude : array-like of int\n",
      "    List or np.array of sources indices to exclude when re-mixing the data\n",
      "    in the :meth:`ICA.apply` method, i.e. artifactual ICA components.\n",
      "    The components identified manually and by the various automatic\n",
      "    artifact detection methods should be (manually) appended\n",
      "    (e.g. ``ica.exclude.extend(eog_inds)``).\n",
      "    (There is also an ``exclude`` parameter in the :meth:`ICA.apply`\n",
      "    method.) To scrap all marked components, set this attribute to an empty\n",
      "    list.\n",
      "\n",
      "info : mne.Info | None\n",
      "    The :class:`mne.Info` object with information about the sensors and methods of measurement.\n",
      "n_samples_ : int\n",
      "    The number of samples used on fit.\n",
      "labels_ : dict\n",
      "    A dictionary of independent component indices, grouped by types of\n",
      "    independent components. This attribute is set by some of the artifact\n",
      "    detection functions.\n",
      "n_iter_ : int\n",
      "    If fit, the number of iterations required to complete ICA.\n",
      "\n",
      "Notes\n",
      "-----\n",
      ".. versionchanged:: 0.23\n",
      "    Version 0.23 introduced the ``max_iter='auto'`` settings for maximum\n",
      "    iterations. With version 0.24 ``'auto'`` will be the new\n",
      "    default, replacing the current ``max_iter=200``.\n",
      "\n",
      ".. versionchanged:: 0.23\n",
      "    Warn if `~mne.Epochs` were baseline-corrected.\n",
      "\n",
      ".. note:: If you intend to fit ICA on `~mne.Epochs`, it is  recommended to\n",
      "          high-pass filter, but **not** baseline correct the data for good\n",
      "          ICA performance. A warning will be emitted otherwise.\n",
      "\n",
      "A trailing ``_`` in an attribute name signifies that the attribute was\n",
      "added to the object during fitting, consistent with standard scikit-learn\n",
      "practice.\n",
      "\n",
      "ICA :meth:`fit` in MNE proceeds in two steps:\n",
      "\n",
      "1. :term:`Whitening <whitening>` the data by means of a pre-whitening step\n",
      "   (using ``noise_cov`` if provided, or the standard deviation of each\n",
      "   channel type) and then principal component analysis (PCA).\n",
      "2. Passing the ``n_components`` largest-variance components to the ICA\n",
      "   algorithm to obtain the unmixing matrix (and by pseudoinversion, the\n",
      "   mixing matrix).\n",
      "\n",
      "ICA :meth:`apply` then:\n",
      "\n",
      "1. Unmixes the data with the ``unmixing_matrix_``.\n",
      "2. Includes ICA components based on ``ica.include`` and ``ica.exclude``.\n",
      "3. Re-mixes the data with ``mixing_matrix_``.\n",
      "4. Restores any data not passed to the ICA algorithm, i.e., the PCA\n",
      "   components between ``n_components`` and ``n_pca_components``.\n",
      "\n",
      "``n_pca_components`` determines how many PCA components will be kept when\n",
      "reconstructing the data when calling :meth:`apply`. This parameter can be\n",
      "used for dimensionality reduction of the data, or dealing with low-rank\n",
      "data (such as those with projections, or MEG data processed by SSS). It is\n",
      "important to remove any numerically-zero-variance components in the data,\n",
      "otherwise numerical instability causes problems when computing the mixing\n",
      "matrix. Alternatively, using ``n_components`` as a float will also avoid\n",
      "numerical stability problems.\n",
      "\n",
      "The ``n_components`` parameter determines how many components out of\n",
      "the ``n_channels`` PCA components the ICA algorithm will actually fit.\n",
      "This is not typically used for EEG data, but for MEG data, it's common to\n",
      "use ``n_components < n_channels``. For example, full-rank\n",
      "306-channel MEG data might use ``n_components=40`` to find (and\n",
      "later exclude) only large, dominating artifacts in the data, but still\n",
      "reconstruct the data using all 306 PCA components. Setting\n",
      "``n_pca_components=40``, on the other hand, would actually reduce the\n",
      "rank of the reconstructed data to 40, which is typically undesirable.\n",
      "\n",
      "If you are migrating from EEGLAB and intend to reduce dimensionality via\n",
      "PCA, similarly to EEGLAB's ``runica(..., 'pca', n)`` functionality,\n",
      "pass ``n_components=n`` during initialization and then\n",
      "``n_pca_components=n`` during :meth:`apply`. The resulting reconstructed\n",
      "data after :meth:`apply` will have rank ``n``.\n",
      "\n",
      ".. note:: Commonly used for reasons of i) computational efficiency and\n",
      "          ii) additional noise reduction, it is a matter of current debate\n",
      "          whether pre-ICA dimensionality reduction could decrease the\n",
      "          reliability and stability of the ICA, at least for EEG data and\n",
      "          especially during preprocessing :footcite:`ArtoniEtAl2018`.\n",
      "          (But see also :footcite:`Montoya-MartinezEtAl2017` for a\n",
      "          possibly confounding effect of the different whitening/sphering\n",
      "          methods used in this paper (ZCA vs. PCA).)\n",
      "          On the other hand, for rank-deficient data such as EEG data after\n",
      "          average reference or interpolation, it is recommended to reduce\n",
      "          the dimensionality (by 1 for average reference and 1 for each\n",
      "          interpolated channel) for optimal ICA performance (see the\n",
      "          `EEGLAB wiki <eeglab_wiki_>`_).\n",
      "\n",
      "Caveat! If supplying a noise covariance, keep track of the projections\n",
      "available in the cov or in the raw object. For example, if you are\n",
      "interested in EOG or ECG artifacts, EOG and ECG projections should be\n",
      "temporally removed before fitting ICA, for example::\n",
      "\n",
      "    >> projs, raw.info['projs'] = raw.info['projs'], []\n",
      "    >> ica.fit(raw)\n",
      "    >> raw.info['projs'] = projs\n",
      "\n",
      "Methods currently implemented are FastICA (default), Infomax, and Picard.\n",
      "Standard Infomax can be quite sensitive to differences in floating point\n",
      "arithmetic. Extended Infomax seems to be more stable in this respect,\n",
      "enhancing reproducibility and stability of results; use Extended Infomax\n",
      "via ``method='infomax', fit_params=dict(extended=True)``. Allowed entries\n",
      "in ``fit_params`` are determined by the various algorithm implementations:\n",
      "see :class:`~sklearn.decomposition.FastICA`, :func:`~picard.picard`,\n",
      ":func:`~mne.preprocessing.infomax`.\n",
      "\n",
      ".. note:: Picard can be used to solve the same problems as FastICA,\n",
      "          Infomax, and extended Infomax, but typically converges faster\n",
      "          than either of those methods. To make use of Picard's speed while\n",
      "          still obtaining the same solution as with other algorithms, you\n",
      "          need to specify ``method='picard'`` and ``fit_params`` as a\n",
      "          dictionary with the following combination of keys:\n",
      "\n",
      "          - ``dict(ortho=False, extended=False)`` for Infomax\n",
      "          - ``dict(ortho=False, extended=True)`` for extended Infomax\n",
      "          - ``dict(ortho=True, extended=True)`` for FastICA\n",
      "\n",
      "Reducing the tolerance (set in ``fit_params``) speeds up estimation at the\n",
      "cost of consistency of the obtained results. It is difficult to directly\n",
      "compare tolerance levels between Infomax and Picard, but for Picard and\n",
      "FastICA a good rule of thumb is ``tol_fastica == tol_picard ** 2``.\n",
      "\n",
      ".. _eeglab_wiki: https://eeglab.org/tutorials/06_RejectArtifacts/RunICA.html#how-to-deal-with-corrupted-ica-decompositions\n",
      "\n",
      "References\n",
      "----------\n",
      ".. footbibliography::\n",
      "\u001b[1;31mFile:\u001b[0m           c:\\users\\ferat\\miniconda3\\envs\\eeg39\\lib\\site-packages\\mne\\preprocessing\\ica.py\n",
      "\u001b[1;31mType:\u001b[0m           type\n",
      "\u001b[1;31mSubclasses:\u001b[0m     \n"
     ]
    }
   ],
   "source": [
    "from mne.preprocessing import ICA\n",
    "\n",
    "ICA?"
   ]
  },
  {
   "cell_type": "markdown",
   "id": "9df8782d",
   "metadata": {},
   "source": [
    "### n_components"
   ]
  },
  {
   "cell_type": "code",
   "execution_count": 2,
   "id": "c7bac0b7",
   "metadata": {},
   "outputs": [],
   "source": [
    "n_components=59"
   ]
  },
  {
   "cell_type": "markdown",
   "id": "fd3cd9be",
   "metadata": {},
   "source": [
    "### Method"
   ]
  },
  {
   "cell_type": "markdown",
   "id": "a03d5ba2",
   "metadata": {},
   "source": [
    "`fastica`\n",
    "\n",
    "Aapo Hyvärinen. Fast and robust fixed-point algorithms for independent component analysis. IEEE Transactions on Neural Networks, 10(3):626–634, 1999. doi:10.1109/72.761722.\n",
    "\n",
    "`infomax`\n",
    "\n",
    "Anthony J. Bell and Terrence J. Sejnowski. An information-maximization approach to blind separation and blind deconvolution. Neural Computation, 7(6):1129–1159, 1995. doi:10.1162/neco.1995.7.6.1129.\n",
    "\n",
    "`infomax` + `fit_params=dict(extended=True)`\n",
    "\n",
    "Te-Won Lee, Mark Girolami, and Terrence J. Sejnowski. Independent component analysis using an extended infomax algorithm for mixed subgaussian and supergaussian sources. Neural Computation, 11(2):417–441, 1999. doi:10.1162/089976699300016719.\n",
    "\n",
    "`picard`\n",
    "\n",
    "Pierre Ablin, Jean-Francois Cardoso, and Alexandre Gramfort. Faster Independent Component Analysis by preconditioning with hessian approximations. IEEE Transactions on Signal Processing, 66(15):4040–4049, 2018. doi:10.1109/TSP.2018.2844203."
   ]
  },
  {
   "cell_type": "code",
   "execution_count": 3,
   "id": "d3b0eedd",
   "metadata": {},
   "outputs": [],
   "source": [
    "ica = ICA(n_components=n_components,\n",
    "          noise_cov=None,\n",
    "          random_state=42,\n",
    "          method='picard', # picard solver\n",
    "          fit_params=dict(ortho=False, extended=True), # extended infomax\n",
    "          max_iter='auto',\n",
    "          allow_ref_meg=False, # MEG only\n",
    "          verbose=None)"
   ]
  },
  {
   "cell_type": "markdown",
   "id": "cbcb26ce",
   "metadata": {},
   "source": [
    "### Fit"
   ]
  },
  {
   "cell_type": "code",
   "execution_count": 4,
   "id": "cb35c296",
   "metadata": {},
   "outputs": [
    {
     "name": "stdout",
     "output_type": "stream",
     "text": [
      "\u001b[1;31mSignature:\u001b[0m\n",
      "\u001b[0mica\u001b[0m\u001b[1;33m.\u001b[0m\u001b[0mfit\u001b[0m\u001b[1;33m(\u001b[0m\u001b[1;33m\n",
      "\u001b[0m    \u001b[0minst\u001b[0m\u001b[1;33m,\u001b[0m\u001b[1;33m\n",
      "\u001b[0m    \u001b[0mpicks\u001b[0m\u001b[1;33m=\u001b[0m\u001b[1;32mNone\u001b[0m\u001b[1;33m,\u001b[0m\u001b[1;33m\n",
      "\u001b[0m    \u001b[0mstart\u001b[0m\u001b[1;33m=\u001b[0m\u001b[1;32mNone\u001b[0m\u001b[1;33m,\u001b[0m\u001b[1;33m\n",
      "\u001b[0m    \u001b[0mstop\u001b[0m\u001b[1;33m=\u001b[0m\u001b[1;32mNone\u001b[0m\u001b[1;33m,\u001b[0m\u001b[1;33m\n",
      "\u001b[0m    \u001b[0mdecim\u001b[0m\u001b[1;33m=\u001b[0m\u001b[1;32mNone\u001b[0m\u001b[1;33m,\u001b[0m\u001b[1;33m\n",
      "\u001b[0m    \u001b[0mreject\u001b[0m\u001b[1;33m=\u001b[0m\u001b[1;32mNone\u001b[0m\u001b[1;33m,\u001b[0m\u001b[1;33m\n",
      "\u001b[0m    \u001b[0mflat\u001b[0m\u001b[1;33m=\u001b[0m\u001b[1;32mNone\u001b[0m\u001b[1;33m,\u001b[0m\u001b[1;33m\n",
      "\u001b[0m    \u001b[0mtstep\u001b[0m\u001b[1;33m=\u001b[0m\u001b[1;36m2.0\u001b[0m\u001b[1;33m,\u001b[0m\u001b[1;33m\n",
      "\u001b[0m    \u001b[0mreject_by_annotation\u001b[0m\u001b[1;33m=\u001b[0m\u001b[1;32mTrue\u001b[0m\u001b[1;33m,\u001b[0m\u001b[1;33m\n",
      "\u001b[0m    \u001b[0mverbose\u001b[0m\u001b[1;33m=\u001b[0m\u001b[1;32mNone\u001b[0m\u001b[1;33m,\u001b[0m\u001b[1;33m\n",
      "\u001b[0m\u001b[1;33m)\u001b[0m\u001b[1;33m\u001b[0m\u001b[1;33m\u001b[0m\u001b[0m\n",
      "\u001b[1;31mDocstring:\u001b[0m\n",
      "Run the ICA decomposition on raw data.\n",
      "\n",
      "Caveat! If supplying a noise covariance keep track of the projections\n",
      "available in the cov, the raw or the epochs object. For example,\n",
      "if you are interested in EOG or ECG artifacts, EOG and ECG projections\n",
      "should be temporally removed before fitting the ICA.\n",
      "\n",
      "Parameters\n",
      "----------\n",
      "inst : instance of Raw or Epochs\n",
      "    The data to be decomposed.\n",
      "picks : str | list | slice | None\n",
      "    Channels to include. Slices and lists of integers will be interpreted as \n",
      "    channel indices. In lists, channel *type* strings (e.g., ``['meg', \n",
      "    'eeg']``) will pick channels of those types, channel *name* strings (e.g., \n",
      "    ``['MEG0111', 'MEG2623']`` will pick the given channels. Can also be the \n",
      "    string values \"all\" to pick all channels, or \"data\" to pick :term:`data \n",
      "    channels`. None (default) will pick good data channels (excluding reference \n",
      "    MEG channels). Note that channels in ``info['bads']`` *will be included* if \n",
      "    their names or indices are explicitly provided.\n",
      "    This selection remains throughout the initialized ICA solution.\n",
      "start, stop : int | float | None\n",
      "    First and last sample to include. If float, data will be\n",
      "    interpreted as time in seconds. If ``None``, data will be used from\n",
      "    the first sample and to the last sample, respectively.\n",
      "\n",
      "    .. note:: These parameters only have an effect if ``inst`` is\n",
      "              `~mne.io.Raw` data.\n",
      "decim : int | None\n",
      "    Increment for selecting only each n-th sampling point. If ``None``,\n",
      "    all samples  between ``start`` and ``stop`` (inclusive) are used.\n",
      "reject, flat : dict | None\n",
      "    Rejection parameters based on peak-to-peak amplitude (PTP)\n",
      "    in the continuous data. Signal periods exceeding the thresholds\n",
      "    in ``reject`` or less than the thresholds in ``flat`` will be\n",
      "    removed before fitting the ICA.\n",
      "\n",
      "    .. note:: These parameters only have an effect if ``inst`` is\n",
      "              `~mne.io.Raw` data. For `~mne.Epochs`, perform PTP\n",
      "              rejection via :meth:`~mne.Epochs.drop_bad`.\n",
      "\n",
      "    Valid keys are all channel types present in the data. Values must\n",
      "    be integers or floats.\n",
      "\n",
      "    If ``None``, no PTP-based rejection will be performed. Example::\n",
      "\n",
      "        reject = dict(\n",
      "            grad=4000e-13, # T / m (gradiometers)\n",
      "            mag=4e-12, # T (magnetometers)\n",
      "            eeg=40e-6, # V (EEG channels)\n",
      "            eog=250e-6 # V (EOG channels)\n",
      "        )\n",
      "        flat = None  # no rejection based on flatness\n",
      "tstep : float\n",
      "    Length of data chunks for artifact rejection in seconds.\n",
      "\n",
      "    .. note:: This parameter only has an effect if ``inst`` is\n",
      "              `~mne.io.Raw` data.\n",
      "\n",
      "reject_by_annotation : bool\n",
      "    Whether to omit bad segments from the data before fitting. If ``True``\n",
      "    (default), annotated segments whose description begins with ``'bad'`` are\n",
      "    omitted. If ``False``, no rejection based on annotations is performed.\n",
      "\n",
      "    Has no effect if ``inst`` is not a :class:`mne.io.Raw` object.\n",
      "\n",
      "    .. versionadded:: 0.14.0\n",
      "\n",
      "verbose : bool | str | int | None\n",
      "    Control verbosity of the logging output. If ``None``, use the default\n",
      "    verbosity level. See the :ref:`logging documentation <tut-logging>` and\n",
      "    :func:`mne.verbose` for details. Should only be passed as a keyword\n",
      "    argument.\n",
      "\n",
      "Returns\n",
      "-------\n",
      "self : instance of ICA\n",
      "    Returns the modified instance.\n",
      "\u001b[1;31mFile:\u001b[0m      c:\\users\\ferat\\miniconda3\\envs\\eeg39\\lib\\site-packages\\mne\\preprocessing\\ica.py\n",
      "\u001b[1;31mType:\u001b[0m      method\n"
     ]
    }
   ],
   "source": [
    "ica.fit?"
   ]
  },
  {
   "cell_type": "code",
   "execution_count": 14,
   "id": "0aa2ce85",
   "metadata": {},
   "outputs": [
    {
     "name": "stdout",
     "output_type": "stream",
     "text": [
      "Fitting ICA to data using 59 channels (please be patient, this may take a while)\n",
      "Selecting by number: 59 components\n",
      "Fitting ICA took 11.4s.\n"
     ]
    },
    {
     "data": {
      "text/html": [
       "<table class=\"table table-hover table-striped table-sm table-responsive small\">\n",
       "    <tr>\n",
       "        <th>Method</th>\n",
       "        <td>picard</td>\n",
       "    </tr>\n",
       "    <tr>\n",
       "        <th>Fit</th>\n",
       "        <td>329 iterations on raw data (9010 samples)</td>\n",
       "    </tr>\n",
       "    \n",
       "    <tr>\n",
       "        <th>ICA components</th>\n",
       "        <td>59</td>\n",
       "    </tr>\n",
       "    <tr>\n",
       "        <th>Explained variance</th>\n",
       "        <td>100.0&nbsp;%</td>\n",
       "    </tr>\n",
       "    <tr>\n",
       "        <th>Available PCA components</th>\n",
       "        <td>59</td>\n",
       "    </tr>\n",
       "    <tr>\n",
       "        <th>Channel types</th>\n",
       "        <td>eeg</td>\n",
       "    </tr>\n",
       "    <tr>\n",
       "        <th>ICA components marked for exclusion</th>\n",
       "        <td>&mdash;</td>\n",
       "    </tr>\n",
       "    \n",
       "</table>"
      ],
      "text/plain": [
       "<ICA | raw data decomposition, method: picard (fit in 329 iterations on 9010 samples), 59 ICA components explaining 100.0 % of variance (59 PCA components available), channel types: eeg, no sources marked for exclusion>"
      ]
     },
     "execution_count": 14,
     "metadata": {},
     "output_type": "execute_result"
    }
   ],
   "source": [
    "ica.fit(raw)"
   ]
  },
  {
   "cell_type": "markdown",
   "id": "77ad6bf5",
   "metadata": {},
   "source": [
    "### Selecting Bad components"
   ]
  },
  {
   "cell_type": "code",
   "execution_count": 18,
   "id": "e1719f4b",
   "metadata": {
    "scrolled": true
   },
   "outputs": [
    {
     "name": "stdout",
     "output_type": "stream",
     "text": [
      "    Using multitaper spectrum estimation with 7 DPSS windows\n",
      "Not setting metadata\n",
      "30 matching events found\n",
      "No baseline correction applied\n",
      "0 projection items activated\n"
     ]
    },
    {
     "name": "stderr",
     "output_type": "stream",
     "text": [
      "C:\\Users\\ferat\\Miniconda3\\envs\\eeg39\\lib\\site-packages\\mne\\viz\\epochs.py:543: MatplotlibDeprecationWarning: The join function was deprecated in Matplotlib 3.6 and will be removed two minor releases later.\n",
      "  ax['evoked'].get_shared_x_axes().join(ax['evoked'], ax_im)\n"
     ]
    },
    {
     "name": "stdout",
     "output_type": "stream",
     "text": [
      "    Using multitaper spectrum estimation with 7 DPSS windows\n",
      "Not setting metadata\n",
      "30 matching events found\n",
      "No baseline correction applied\n",
      "0 projection items activated\n"
     ]
    },
    {
     "name": "stderr",
     "output_type": "stream",
     "text": [
      "C:\\Users\\ferat\\Miniconda3\\envs\\eeg39\\lib\\site-packages\\mne\\viz\\epochs.py:543: MatplotlibDeprecationWarning: The join function was deprecated in Matplotlib 3.6 and will be removed two minor releases later.\n",
      "  ax['evoked'].get_shared_x_axes().join(ax['evoked'], ax_im)\n"
     ]
    },
    {
     "name": "stdout",
     "output_type": "stream",
     "text": [
      "    Using multitaper spectrum estimation with 7 DPSS windows\n",
      "Not setting metadata\n",
      "30 matching events found\n",
      "No baseline correction applied\n",
      "0 projection items activated\n"
     ]
    },
    {
     "name": "stderr",
     "output_type": "stream",
     "text": [
      "C:\\Users\\ferat\\Miniconda3\\envs\\eeg39\\lib\\site-packages\\mne\\viz\\epochs.py:543: MatplotlibDeprecationWarning: The join function was deprecated in Matplotlib 3.6 and will be removed two minor releases later.\n",
      "  ax['evoked'].get_shared_x_axes().join(ax['evoked'], ax_im)\n"
     ]
    },
    {
     "name": "stdout",
     "output_type": "stream",
     "text": [
      "    Using multitaper spectrum estimation with 7 DPSS windows\n",
      "Not setting metadata\n",
      "30 matching events found\n",
      "No baseline correction applied\n",
      "0 projection items activated\n"
     ]
    },
    {
     "name": "stderr",
     "output_type": "stream",
     "text": [
      "C:\\Users\\ferat\\Miniconda3\\envs\\eeg39\\lib\\site-packages\\mne\\viz\\epochs.py:543: MatplotlibDeprecationWarning: The join function was deprecated in Matplotlib 3.6 and will be removed two minor releases later.\n",
      "  ax['evoked'].get_shared_x_axes().join(ax['evoked'], ax_im)\n"
     ]
    },
    {
     "name": "stdout",
     "output_type": "stream",
     "text": [
      "    Using multitaper spectrum estimation with 7 DPSS windows\n",
      "Not setting metadata\n",
      "30 matching events found\n",
      "No baseline correction applied\n",
      "0 projection items activated\n"
     ]
    },
    {
     "name": "stderr",
     "output_type": "stream",
     "text": [
      "C:\\Users\\ferat\\Miniconda3\\envs\\eeg39\\lib\\site-packages\\mne\\viz\\epochs.py:543: MatplotlibDeprecationWarning: The join function was deprecated in Matplotlib 3.6 and will be removed two minor releases later.\n",
      "  ax['evoked'].get_shared_x_axes().join(ax['evoked'], ax_im)\n"
     ]
    },
    {
     "name": "stdout",
     "output_type": "stream",
     "text": [
      "    Using multitaper spectrum estimation with 7 DPSS windows\n",
      "Not setting metadata\n",
      "30 matching events found\n",
      "No baseline correction applied\n",
      "0 projection items activated\n"
     ]
    },
    {
     "name": "stderr",
     "output_type": "stream",
     "text": [
      "C:\\Users\\ferat\\Miniconda3\\envs\\eeg39\\lib\\site-packages\\mne\\viz\\epochs.py:543: MatplotlibDeprecationWarning: The join function was deprecated in Matplotlib 3.6 and will be removed two minor releases later.\n",
      "  ax['evoked'].get_shared_x_axes().join(ax['evoked'], ax_im)\n"
     ]
    },
    {
     "name": "stdout",
     "output_type": "stream",
     "text": [
      "    Using multitaper spectrum estimation with 7 DPSS windows\n",
      "Not setting metadata\n",
      "30 matching events found\n",
      "No baseline correction applied\n",
      "0 projection items activated\n"
     ]
    },
    {
     "name": "stderr",
     "output_type": "stream",
     "text": [
      "C:\\Users\\ferat\\Miniconda3\\envs\\eeg39\\lib\\site-packages\\mne\\viz\\epochs.py:543: MatplotlibDeprecationWarning: The join function was deprecated in Matplotlib 3.6 and will be removed two minor releases later.\n",
      "  ax['evoked'].get_shared_x_axes().join(ax['evoked'], ax_im)\n"
     ]
    },
    {
     "name": "stdout",
     "output_type": "stream",
     "text": [
      "    Using multitaper spectrum estimation with 7 DPSS windows\n",
      "Not setting metadata\n",
      "30 matching events found\n",
      "No baseline correction applied\n",
      "0 projection items activated\n"
     ]
    },
    {
     "name": "stderr",
     "output_type": "stream",
     "text": [
      "C:\\Users\\ferat\\Miniconda3\\envs\\eeg39\\lib\\site-packages\\mne\\viz\\epochs.py:543: MatplotlibDeprecationWarning: The join function was deprecated in Matplotlib 3.6 and will be removed two minor releases later.\n",
      "  ax['evoked'].get_shared_x_axes().join(ax['evoked'], ax_im)\n"
     ]
    },
    {
     "name": "stdout",
     "output_type": "stream",
     "text": [
      "    Using multitaper spectrum estimation with 7 DPSS windows\n",
      "Not setting metadata\n",
      "30 matching events found\n",
      "No baseline correction applied\n",
      "0 projection items activated\n"
     ]
    },
    {
     "name": "stderr",
     "output_type": "stream",
     "text": [
      "C:\\Users\\ferat\\Miniconda3\\envs\\eeg39\\lib\\site-packages\\mne\\viz\\epochs.py:543: MatplotlibDeprecationWarning: The join function was deprecated in Matplotlib 3.6 and will be removed two minor releases later.\n",
      "  ax['evoked'].get_shared_x_axes().join(ax['evoked'], ax_im)\n"
     ]
    },
    {
     "name": "stdout",
     "output_type": "stream",
     "text": [
      "    Using multitaper spectrum estimation with 7 DPSS windows\n",
      "Not setting metadata\n",
      "30 matching events found\n",
      "No baseline correction applied\n",
      "0 projection items activated\n"
     ]
    },
    {
     "name": "stderr",
     "output_type": "stream",
     "text": [
      "C:\\Users\\ferat\\Miniconda3\\envs\\eeg39\\lib\\site-packages\\mne\\viz\\epochs.py:543: MatplotlibDeprecationWarning: The join function was deprecated in Matplotlib 3.6 and will be removed two minor releases later.\n",
      "  ax['evoked'].get_shared_x_axes().join(ax['evoked'], ax_im)\n"
     ]
    },
    {
     "name": "stdout",
     "output_type": "stream",
     "text": [
      "    Using multitaper spectrum estimation with 7 DPSS windows\n",
      "Not setting metadata\n",
      "30 matching events found\n",
      "No baseline correction applied\n",
      "0 projection items activated\n"
     ]
    },
    {
     "name": "stderr",
     "output_type": "stream",
     "text": [
      "C:\\Users\\ferat\\Miniconda3\\envs\\eeg39\\lib\\site-packages\\mne\\viz\\epochs.py:543: MatplotlibDeprecationWarning: The join function was deprecated in Matplotlib 3.6 and will be removed two minor releases later.\n",
      "  ax['evoked'].get_shared_x_axes().join(ax['evoked'], ax_im)\n"
     ]
    },
    {
     "name": "stdout",
     "output_type": "stream",
     "text": [
      "    Using multitaper spectrum estimation with 7 DPSS windows\n",
      "Not setting metadata\n",
      "30 matching events found\n",
      "No baseline correction applied\n",
      "0 projection items activated\n"
     ]
    },
    {
     "name": "stderr",
     "output_type": "stream",
     "text": [
      "C:\\Users\\ferat\\Miniconda3\\envs\\eeg39\\lib\\site-packages\\mne\\viz\\epochs.py:543: MatplotlibDeprecationWarning: The join function was deprecated in Matplotlib 3.6 and will be removed two minor releases later.\n",
      "  ax['evoked'].get_shared_x_axes().join(ax['evoked'], ax_im)\n"
     ]
    },
    {
     "name": "stdout",
     "output_type": "stream",
     "text": [
      "    Using multitaper spectrum estimation with 7 DPSS windows\n",
      "Not setting metadata\n",
      "30 matching events found\n",
      "No baseline correction applied\n",
      "0 projection items activated\n"
     ]
    },
    {
     "name": "stderr",
     "output_type": "stream",
     "text": [
      "C:\\Users\\ferat\\Miniconda3\\envs\\eeg39\\lib\\site-packages\\mne\\viz\\epochs.py:543: MatplotlibDeprecationWarning: The join function was deprecated in Matplotlib 3.6 and will be removed two minor releases later.\n",
      "  ax['evoked'].get_shared_x_axes().join(ax['evoked'], ax_im)\n"
     ]
    }
   ],
   "source": [
    "ica.plot_components(inst=raw);"
   ]
  },
  {
   "cell_type": "code",
   "execution_count": 16,
   "id": "5c4b79f0",
   "metadata": {
    "scrolled": true
   },
   "outputs": [
    {
     "name": "stdout",
     "output_type": "stream",
     "text": [
      "Creating RawArray with float64 data, n_channels=59, n_times=9010\n",
      "    Range : 6450 ... 15459 =     42.956 ...   102.954 secs\n",
      "Ready.\n"
     ]
    },
    {
     "data": {
      "text/plain": [
       "<mne_qt_browser._pg_figure.MNEQtBrowser at 0x20fab780ee0>"
      ]
     },
     "execution_count": 16,
     "metadata": {},
     "output_type": "execute_result"
    },
    {
     "name": "stdout",
     "output_type": "stream",
     "text": [
      "    Using multitaper spectrum estimation with 7 DPSS windows\n",
      "Not setting metadata\n",
      "30 matching events found\n",
      "No baseline correction applied\n",
      "0 projection items activated\n"
     ]
    },
    {
     "name": "stderr",
     "output_type": "stream",
     "text": [
      "C:\\Users\\ferat\\Miniconda3\\envs\\eeg39\\lib\\site-packages\\mne\\viz\\epochs.py:543: MatplotlibDeprecationWarning: The join function was deprecated in Matplotlib 3.6 and will be removed two minor releases later.\n",
      "  ax['evoked'].get_shared_x_axes().join(ax['evoked'], ax_im)\n"
     ]
    },
    {
     "name": "stdout",
     "output_type": "stream",
     "text": [
      "    Using multitaper spectrum estimation with 7 DPSS windows\n",
      "Not setting metadata\n",
      "30 matching events found\n",
      "No baseline correction applied\n",
      "0 projection items activated\n"
     ]
    },
    {
     "name": "stderr",
     "output_type": "stream",
     "text": [
      "C:\\Users\\ferat\\Miniconda3\\envs\\eeg39\\lib\\site-packages\\mne\\viz\\epochs.py:543: MatplotlibDeprecationWarning: The join function was deprecated in Matplotlib 3.6 and will be removed two minor releases later.\n",
      "  ax['evoked'].get_shared_x_axes().join(ax['evoked'], ax_im)\n"
     ]
    },
    {
     "name": "stdout",
     "output_type": "stream",
     "text": [
      "    Using multitaper spectrum estimation with 7 DPSS windows\n",
      "Not setting metadata\n",
      "30 matching events found\n",
      "No baseline correction applied\n",
      "0 projection items activated\n"
     ]
    },
    {
     "name": "stderr",
     "output_type": "stream",
     "text": [
      "C:\\Users\\ferat\\Miniconda3\\envs\\eeg39\\lib\\site-packages\\mne\\viz\\epochs.py:543: MatplotlibDeprecationWarning: The join function was deprecated in Matplotlib 3.6 and will be removed two minor releases later.\n",
      "  ax['evoked'].get_shared_x_axes().join(ax['evoked'], ax_im)\n"
     ]
    },
    {
     "name": "stdout",
     "output_type": "stream",
     "text": [
      "    Using multitaper spectrum estimation with 7 DPSS windows\n",
      "Not setting metadata\n",
      "30 matching events found\n",
      "No baseline correction applied\n",
      "0 projection items activated\n"
     ]
    },
    {
     "name": "stderr",
     "output_type": "stream",
     "text": [
      "C:\\Users\\ferat\\Miniconda3\\envs\\eeg39\\lib\\site-packages\\mne\\viz\\epochs.py:543: MatplotlibDeprecationWarning: The join function was deprecated in Matplotlib 3.6 and will be removed two minor releases later.\n",
      "  ax['evoked'].get_shared_x_axes().join(ax['evoked'], ax_im)\n"
     ]
    },
    {
     "name": "stdout",
     "output_type": "stream",
     "text": [
      "    Using multitaper spectrum estimation with 7 DPSS windows\n",
      "Not setting metadata\n",
      "30 matching events found\n",
      "No baseline correction applied\n",
      "0 projection items activated\n"
     ]
    },
    {
     "name": "stderr",
     "output_type": "stream",
     "text": [
      "C:\\Users\\ferat\\Miniconda3\\envs\\eeg39\\lib\\site-packages\\mne\\viz\\epochs.py:543: MatplotlibDeprecationWarning: The join function was deprecated in Matplotlib 3.6 and will be removed two minor releases later.\n",
      "  ax['evoked'].get_shared_x_axes().join(ax['evoked'], ax_im)\n"
     ]
    }
   ],
   "source": [
    "ica.plot_sources(inst=raw);"
   ]
  },
  {
   "cell_type": "markdown",
   "id": "0855df4a",
   "metadata": {},
   "source": [
    "### MNE ICA labels"
   ]
  },
  {
   "cell_type": "markdown",
   "id": "c7057782",
   "metadata": {},
   "source": [
    "Li et al., (2022). MNE-ICALabel: Automatically annotating ICA components with ICLabel in Python. Journal of Open Source Software, 7(76), 4484, https://doi.org/10.21105/joss.04484\n"
   ]
  },
  {
   "cell_type": "code",
   "execution_count": 19,
   "id": "c61d2bfc",
   "metadata": {
    "scrolled": true
   },
   "outputs": [
    {
     "name": "stdout",
     "output_type": "stream",
     "text": [
      "Collecting mne-icalabel\n",
      "  Downloading mne_icalabel-0.4-py3-none-any.whl (10.8 MB)\n",
      "     --------------------------------------- 10.8/10.8 MB 27.3 MB/s eta 0:00:00\n",
      "Requirement already satisfied: numpy>=1.16.0 in c:\\users\\ferat\\miniconda3\\envs\\eeg39\\lib\\site-packages (from mne-icalabel) (1.23.3)\n",
      "Requirement already satisfied: mne>=1.1 in c:\\users\\ferat\\miniconda3\\envs\\eeg39\\lib\\site-packages (from mne-icalabel) (1.1.1)\n",
      "Requirement already satisfied: scipy>=1.2.0 in c:\\users\\ferat\\miniconda3\\envs\\eeg39\\lib\\site-packages (from mne-icalabel) (1.9.1)\n",
      "Collecting torch\n",
      "  Downloading torch-1.12.1-cp39-cp39-win_amd64.whl (161.8 MB)\n",
      "     -------------------------------------- 161.8/161.8 MB 7.9 MB/s eta 0:00:00\n",
      "Requirement already satisfied: pooch in c:\\users\\ferat\\miniconda3\\envs\\eeg39\\lib\\site-packages (from mne-icalabel) (1.6.0)\n",
      "Requirement already satisfied: tqdm in c:\\users\\ferat\\miniconda3\\envs\\eeg39\\lib\\site-packages (from mne>=1.1->mne-icalabel) (4.64.1)\n",
      "Requirement already satisfied: matplotlib in c:\\users\\ferat\\miniconda3\\envs\\eeg39\\lib\\site-packages (from mne>=1.1->mne-icalabel) (3.6.0)\n",
      "Requirement already satisfied: decorator in c:\\users\\ferat\\miniconda3\\envs\\eeg39\\lib\\site-packages (from mne>=1.1->mne-icalabel) (5.1.1)\n",
      "Requirement already satisfied: packaging in c:\\users\\ferat\\miniconda3\\envs\\eeg39\\lib\\site-packages (from mne>=1.1->mne-icalabel) (21.3)\n",
      "Requirement already satisfied: jinja2 in c:\\users\\ferat\\miniconda3\\envs\\eeg39\\lib\\site-packages (from mne>=1.1->mne-icalabel) (3.1.2)\n",
      "Requirement already satisfied: requests>=2.19.0 in c:\\users\\ferat\\miniconda3\\envs\\eeg39\\lib\\site-packages (from pooch->mne-icalabel) (2.28.1)\n",
      "Requirement already satisfied: appdirs>=1.3.0 in c:\\users\\ferat\\miniconda3\\envs\\eeg39\\lib\\site-packages (from pooch->mne-icalabel) (1.4.4)\n",
      "Collecting typing-extensions\n",
      "  Using cached typing_extensions-4.3.0-py3-none-any.whl (25 kB)\n",
      "Requirement already satisfied: pyparsing!=3.0.5,>=2.0.2 in c:\\users\\ferat\\miniconda3\\envs\\eeg39\\lib\\site-packages (from packaging->mne>=1.1->mne-icalabel) (3.0.9)\n",
      "Requirement already satisfied: charset-normalizer<3,>=2 in c:\\users\\ferat\\miniconda3\\envs\\eeg39\\lib\\site-packages (from requests>=2.19.0->pooch->mne-icalabel) (2.1.1)\n",
      "Requirement already satisfied: urllib3<1.27,>=1.21.1 in c:\\users\\ferat\\miniconda3\\envs\\eeg39\\lib\\site-packages (from requests>=2.19.0->pooch->mne-icalabel) (1.26.12)\n",
      "Requirement already satisfied: certifi>=2017.4.17 in c:\\users\\ferat\\miniconda3\\envs\\eeg39\\lib\\site-packages (from requests>=2.19.0->pooch->mne-icalabel) (2022.6.15)\n",
      "Requirement already satisfied: idna<4,>=2.5 in c:\\users\\ferat\\miniconda3\\envs\\eeg39\\lib\\site-packages (from requests>=2.19.0->pooch->mne-icalabel) (3.4)\n",
      "Requirement already satisfied: MarkupSafe>=2.0 in c:\\users\\ferat\\miniconda3\\envs\\eeg39\\lib\\site-packages (from jinja2->mne>=1.1->mne-icalabel) (2.1.1)\n",
      "Requirement already satisfied: contourpy>=1.0.1 in c:\\users\\ferat\\miniconda3\\envs\\eeg39\\lib\\site-packages (from matplotlib->mne>=1.1->mne-icalabel) (1.0.5)\n",
      "Requirement already satisfied: fonttools>=4.22.0 in c:\\users\\ferat\\miniconda3\\envs\\eeg39\\lib\\site-packages (from matplotlib->mne>=1.1->mne-icalabel) (4.37.2)\n",
      "Requirement already satisfied: kiwisolver>=1.0.1 in c:\\users\\ferat\\miniconda3\\envs\\eeg39\\lib\\site-packages (from matplotlib->mne>=1.1->mne-icalabel) (1.4.4)\n",
      "Requirement already satisfied: cycler>=0.10 in c:\\users\\ferat\\miniconda3\\envs\\eeg39\\lib\\site-packages (from matplotlib->mne>=1.1->mne-icalabel) (0.11.0)\n",
      "Requirement already satisfied: python-dateutil>=2.7 in c:\\users\\ferat\\miniconda3\\envs\\eeg39\\lib\\site-packages (from matplotlib->mne>=1.1->mne-icalabel) (2.8.2)\n",
      "Requirement already satisfied: pillow>=6.2.0 in c:\\users\\ferat\\miniconda3\\envs\\eeg39\\lib\\site-packages (from matplotlib->mne>=1.1->mne-icalabel) (9.2.0)\n",
      "Requirement already satisfied: colorama in c:\\users\\ferat\\miniconda3\\envs\\eeg39\\lib\\site-packages (from tqdm->mne>=1.1->mne-icalabel) (0.4.5)\n",
      "Requirement already satisfied: six>=1.5 in c:\\users\\ferat\\miniconda3\\envs\\eeg39\\lib\\site-packages (from python-dateutil>=2.7->matplotlib->mne>=1.1->mne-icalabel) (1.16.0)\n",
      "Installing collected packages: typing-extensions, torch, mne-icalabel\n",
      "Successfully installed mne-icalabel-0.4 torch-1.12.1 typing-extensions-4.3.0\n"
     ]
    }
   ],
   "source": [
    "!pip install mne-icalabel"
   ]
  },
  {
   "cell_type": "code",
   "execution_count": 20,
   "id": "628e244a",
   "metadata": {
    "scrolled": true
   },
   "outputs": [
    {
     "name": "stderr",
     "output_type": "stream",
     "text": [
      "C:\\Users\\ferat\\Miniconda3\\envs\\eeg39\\lib\\site-packages\\tqdm\\auto.py:22: TqdmWarning: IProgress not found. Please update jupyter and ipywidgets. See https://ipywidgets.readthedocs.io/en/stable/user_install.html\n",
      "  from .autonotebook import tqdm as notebook_tqdm\n",
      "C:\\Users\\ferat\\AppData\\Local\\Temp\\ipykernel_1768\\3350189304.py:4: RuntimeWarning: The provided Raw instance does not seem to be referenced to a common average reference (CAR). ICLabel was designed to classify features extracted from an EEG dataset referenced to a CAR (see the 'set_eeg_reference()' method for Raw and Epochs instances).\n",
      "  label_components(raw, ica, method='iclabel')\n",
      "C:\\Users\\ferat\\AppData\\Local\\Temp\\ipykernel_1768\\3350189304.py:4: RuntimeWarning: The provided Raw instance is not filtered between 1 and 100 Hz. ICLabel was designed to classify features extracted from an EEG dataset bandpass filtered between 1 and 100 Hz (see the 'filter()' method for Raw and Epochs instances).\n",
      "  label_components(raw, ica, method='iclabel')\n"
     ]
    },
    {
     "data": {
      "text/plain": [
       "{'y_pred_proba': array([0.9278839 , 0.7647001 , 0.9970324 , 0.9798221 , 0.5220299 ,\n",
       "        0.9901547 , 0.9239477 , 0.52995855, 0.97791314, 0.96155393,\n",
       "        0.99630463, 0.97647846, 0.9796555 , 0.7804446 , 0.5917051 ,\n",
       "        0.70175546, 0.99670655, 0.5928928 , 0.55599785, 0.6810263 ,\n",
       "        0.64349407, 0.88102883, 0.9994302 , 0.37597826, 0.8864524 ,\n",
       "        0.56222326, 0.6092847 , 0.9232826 , 0.97671515, 0.62081695,\n",
       "        0.46128488, 0.7829498 , 0.89938015, 0.8766513 , 0.48444182,\n",
       "        0.5705153 , 0.5365608 , 0.62708753, 0.8230916 , 0.81559336,\n",
       "        0.89698815, 0.4400778 , 0.6991721 , 0.79421175, 0.5745903 ,\n",
       "        0.4575032 , 0.80572164, 0.56198573, 0.82850015, 0.79314744,\n",
       "        0.56466633, 0.96095467, 0.6075463 , 0.7045741 , 0.5564039 ,\n",
       "        0.5045259 , 0.45872688, 0.9676861 , 0.91065294], dtype=float32),\n",
       " 'labels': ['eye blink',\n",
       "  'brain',\n",
       "  'brain',\n",
       "  'brain',\n",
       "  'heart beat',\n",
       "  'brain',\n",
       "  'brain',\n",
       "  'brain',\n",
       "  'brain',\n",
       "  'brain',\n",
       "  'brain',\n",
       "  'brain',\n",
       "  'brain',\n",
       "  'brain',\n",
       "  'muscle artifact',\n",
       "  'brain',\n",
       "  'brain',\n",
       "  'muscle artifact',\n",
       "  'brain',\n",
       "  'brain',\n",
       "  'other',\n",
       "  'brain',\n",
       "  'brain',\n",
       "  'muscle artifact',\n",
       "  'brain',\n",
       "  'brain',\n",
       "  'brain',\n",
       "  'brain',\n",
       "  'brain',\n",
       "  'other',\n",
       "  'other',\n",
       "  'brain',\n",
       "  'brain',\n",
       "  'brain',\n",
       "  'other',\n",
       "  'muscle artifact',\n",
       "  'brain',\n",
       "  'muscle artifact',\n",
       "  'other',\n",
       "  'other',\n",
       "  'other',\n",
       "  'other',\n",
       "  'other',\n",
       "  'brain',\n",
       "  'other',\n",
       "  'muscle artifact',\n",
       "  'other',\n",
       "  'muscle artifact',\n",
       "  'other',\n",
       "  'muscle artifact',\n",
       "  'other',\n",
       "  'other',\n",
       "  'other',\n",
       "  'other',\n",
       "  'muscle artifact',\n",
       "  'other',\n",
       "  'muscle artifact',\n",
       "  'other',\n",
       "  'other']}"
      ]
     },
     "execution_count": 20,
     "metadata": {},
     "output_type": "execute_result"
    }
   ],
   "source": [
    "from mne_icalabel import label_components\n",
    "\n",
    "# assuming you have a Raw and ICA instance previously fitted\n",
    "label_components(raw, ica, method='iclabel')"
   ]
  },
  {
   "cell_type": "markdown",
   "id": "669c00cf",
   "metadata": {},
   "source": [
    "### Apply"
   ]
  },
  {
   "cell_type": "code",
   "execution_count": 21,
   "id": "98386fa2",
   "metadata": {},
   "outputs": [
    {
     "name": "stdout",
     "output_type": "stream",
     "text": [
      "Applying ICA to Raw instance\n",
      "    Transforming to ICA space (59 components)\n",
      "    Zeroing out 0 ICA components\n",
      "    Projecting back using 59 PCA components\n"
     ]
    }
   ],
   "source": [
    "raw_ica = ica.apply(raw)"
   ]
  },
  {
   "cell_type": "code",
   "execution_count": 22,
   "id": "f4122d7c",
   "metadata": {},
   "outputs": [
    {
     "data": {
      "text/plain": [
       "<mne_qt_browser._pg_figure.MNEQtBrowser at 0x20fb57b9430>"
      ]
     },
     "execution_count": 22,
     "metadata": {},
     "output_type": "execute_result"
    },
    {
     "name": "stdout",
     "output_type": "stream",
     "text": [
      "Channels marked as bad:\n",
      "['EEG 053']\n"
     ]
    }
   ],
   "source": [
    "raw_ica.plot()"
   ]
  },
  {
   "cell_type": "markdown",
   "id": "37a015dc",
   "metadata": {},
   "source": [
    "### Additional Preprocessing steps"
   ]
  },
  {
   "cell_type": "code",
   "execution_count": 29,
   "id": "c1f85556",
   "metadata": {},
   "outputs": [
    {
     "name": "stdout",
     "output_type": "stream",
     "text": [
      "Interpolating bad channels\n",
      "    Automatic origin fit: head of radius 91.0 mm\n",
      "Computing interpolation matrix from 59 sensor positions\n",
      "Interpolating 1 sensors\n"
     ]
    },
    {
     "data": {
      "text/html": [
       "<table class=\"table table-hover table-striped table-sm table-responsive small\">\n",
       "    <tr>\n",
       "        <th>Measurement date</th>\n",
       "        \n",
       "        <td>December 03, 2002  19:01:10 GMT</td>\n",
       "        \n",
       "    </tr>\n",
       "    <tr>\n",
       "        <th>Experimenter</th>\n",
       "        \n",
       "        <td>Unknown</td>\n",
       "        \n",
       "    </tr>\n",
       "        <th>Participant</th>\n",
       "        \n",
       "        <td>Unknown</td>\n",
       "        \n",
       "    </tr>\n",
       "    <tr>\n",
       "        <th>Digitized points</th>\n",
       "        \n",
       "        <td>146 points</td>\n",
       "        \n",
       "    </tr>\n",
       "    <tr>\n",
       "        <th>Good channels</th>\n",
       "        <td>60 EEG</td>\n",
       "    </tr>\n",
       "    <tr>\n",
       "        <th>Bad channels</th>\n",
       "        <td>None</td>\n",
       "    </tr>\n",
       "    <tr>\n",
       "        <th>EOG channels</th>\n",
       "        <td>Not available</td>\n",
       "    </tr>\n",
       "    <tr>\n",
       "        <th>ECG channels</th>\n",
       "        <td>Not available</td>\n",
       "    \n",
       "    <tr>\n",
       "        <th>Sampling frequency</th>\n",
       "        <td>150.15 Hz</td>\n",
       "    </tr>\n",
       "    \n",
       "    \n",
       "    <tr>\n",
       "        <th>Highpass</th>\n",
       "        <td>1.00 Hz</td>\n",
       "    </tr>\n",
       "    \n",
       "    \n",
       "    <tr>\n",
       "        <th>Lowpass</th>\n",
       "        <td>30.00 Hz</td>\n",
       "    </tr>\n",
       "    \n",
       "    \n",
       "    <tr>\n",
       "        <th>Projections</th>\n",
       "        <td>Average EEG reference : off</td>\n",
       "    </tr>\n",
       "    \n",
       "    \n",
       "    <tr>\n",
       "        <th>Filenames</th>\n",
       "        <td>sample_audvis_filt-0-40_raw.fif</td>\n",
       "    </tr>\n",
       "    \n",
       "    <tr>\n",
       "        <th>Duration</th>\n",
       "        <td>00:00:59 (HH:MM:SS)</td>\n",
       "    </tr>\n",
       "</table>"
      ],
      "text/plain": [
       "<Raw | sample_audvis_filt-0-40_raw.fif, 60 x 9010 (60.0 s), ~7.1 MB, data loaded>"
      ]
     },
     "execution_count": 29,
     "metadata": {},
     "output_type": "execute_result"
    }
   ],
   "source": [
    "raw_ica.interpolate_bads()"
   ]
  },
  {
   "cell_type": "code",
   "execution_count": 30,
   "id": "36c01c25",
   "metadata": {},
   "outputs": [
    {
     "name": "stdout",
     "output_type": "stream",
     "text": [
      "EEG channel type selected for re-referencing\n",
      "Applying average reference.\n",
      "Applying a custom ('EEG',) reference.\n",
      "Removing existing average EEG reference projection.\n"
     ]
    },
    {
     "data": {
      "text/html": [
       "<table class=\"table table-hover table-striped table-sm table-responsive small\">\n",
       "    <tr>\n",
       "        <th>Measurement date</th>\n",
       "        \n",
       "        <td>December 03, 2002  19:01:10 GMT</td>\n",
       "        \n",
       "    </tr>\n",
       "    <tr>\n",
       "        <th>Experimenter</th>\n",
       "        \n",
       "        <td>Unknown</td>\n",
       "        \n",
       "    </tr>\n",
       "        <th>Participant</th>\n",
       "        \n",
       "        <td>Unknown</td>\n",
       "        \n",
       "    </tr>\n",
       "    <tr>\n",
       "        <th>Digitized points</th>\n",
       "        \n",
       "        <td>146 points</td>\n",
       "        \n",
       "    </tr>\n",
       "    <tr>\n",
       "        <th>Good channels</th>\n",
       "        <td>60 EEG</td>\n",
       "    </tr>\n",
       "    <tr>\n",
       "        <th>Bad channels</th>\n",
       "        <td>None</td>\n",
       "    </tr>\n",
       "    <tr>\n",
       "        <th>EOG channels</th>\n",
       "        <td>Not available</td>\n",
       "    </tr>\n",
       "    <tr>\n",
       "        <th>ECG channels</th>\n",
       "        <td>Not available</td>\n",
       "    \n",
       "    <tr>\n",
       "        <th>Sampling frequency</th>\n",
       "        <td>150.15 Hz</td>\n",
       "    </tr>\n",
       "    \n",
       "    \n",
       "    <tr>\n",
       "        <th>Highpass</th>\n",
       "        <td>1.00 Hz</td>\n",
       "    </tr>\n",
       "    \n",
       "    \n",
       "    <tr>\n",
       "        <th>Lowpass</th>\n",
       "        <td>30.00 Hz</td>\n",
       "    </tr>\n",
       "    \n",
       "    \n",
       "    \n",
       "    <tr>\n",
       "        <th>Filenames</th>\n",
       "        <td>sample_audvis_filt-0-40_raw.fif</td>\n",
       "    </tr>\n",
       "    \n",
       "    <tr>\n",
       "        <th>Duration</th>\n",
       "        <td>00:00:59 (HH:MM:SS)</td>\n",
       "    </tr>\n",
       "</table>"
      ],
      "text/plain": [
       "<Raw | sample_audvis_filt-0-40_raw.fif, 60 x 9010 (60.0 s), ~7.1 MB, data loaded>"
      ]
     },
     "execution_count": 30,
     "metadata": {},
     "output_type": "execute_result"
    }
   ],
   "source": [
    "raw_ica.set_eeg_reference('average')"
   ]
  },
  {
   "cell_type": "markdown",
   "id": "0784ed2e",
   "metadata": {},
   "source": [
    "### Save"
   ]
  },
  {
   "cell_type": "markdown",
   "id": "fb66a9d4",
   "metadata": {},
   "source": [
    "#### ICA"
   ]
  },
  {
   "cell_type": "code",
   "execution_count": null,
   "id": "b339be10",
   "metadata": {},
   "outputs": [],
   "source": [
    "ica.save(\"my_ica-ica.fif\")"
   ]
  },
  {
   "cell_type": "markdown",
   "id": "e16fbd75",
   "metadata": {},
   "source": [
    "#### EEG"
   ]
  },
  {
   "cell_type": "code",
   "execution_count": 27,
   "id": "d7f0753c",
   "metadata": {
    "scrolled": true
   },
   "outputs": [
    {
     "name": "stderr",
     "output_type": "stream",
     "text": [
      "C:\\Users\\ferat\\AppData\\Local\\Temp\\ipykernel_1768\\2533428595.py:1: RuntimeWarning: Raw instance has unapplied projectors. Consider applying them before exporting with raw.apply_proj().\n",
      "  mne.export.export_raw('raw_ica.vhdr', raw)\n"
     ]
    }
   ],
   "source": [
    "mne.export.export_raw('raw_ica.vhdr', raw)"
   ]
  }
 ],
 "metadata": {
  "kernelspec": {
   "display_name": "Python 3.9.13 ('eeg39')",
   "language": "python",
   "name": "python3"
  },
  "language_info": {
   "codemirror_mode": {
    "name": "ipython",
    "version": 3
   },
   "file_extension": ".py",
   "mimetype": "text/x-python",
   "name": "python",
   "nbconvert_exporter": "python",
   "pygments_lexer": "ipython3",
   "version": "3.9.13"
  },
  "vscode": {
   "interpreter": {
    "hash": "e7a7bd5116ebb5a6b50293a172c509297d27897577f3c016c8e8d7fd8d1c36f1"
   }
  }
 },
 "nbformat": 4,
 "nbformat_minor": 5
}
