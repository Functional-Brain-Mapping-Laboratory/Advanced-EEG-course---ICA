{
 "cells": [
  {
   "cell_type": "markdown",
   "id": "4d36604e",
   "metadata": {},
   "source": [
    "# Load DATA"
   ]
  },
  {
   "cell_type": "code",
   "execution_count": null,
   "id": "57ff978c",
   "metadata": {},
   "outputs": [],
   "source": [
    "!pip install pyqt5 pandas pycartool"
   ]
  },
  {
   "cell_type": "markdown",
   "id": "9a2260f4",
   "metadata": {},
   "source": [
    "Load the exemple dataset"
   ]
  },
  {
   "cell_type": "code",
   "execution_count": 1,
   "id": "9202361e",
   "metadata": {},
   "outputs": [
    {
     "name": "stdout",
     "output_type": "stream",
     "text": [
      "Extracting parameters from C:\\Users\\ferat\\Downloads\\EEG Class - Geneva - 2022\\EEG Class - Geneva - 2022\\1 Preprocessing\\Data\\4 ICA\\corrado1_VEPcheck_20170428_112415_FilterDown.vhdr...\n",
      "Setting channel info structure...\n"
     ]
    },
    {
     "data": {
      "text/html": [
       "<table class=\"table table-hover table-striped table-sm table-responsive small\">\n",
       "    <tr>\n",
       "        <th>Measurement date</th>\n",
       "        \n",
       "        <td>April 28, 2017  11:24:14 GMT</td>\n",
       "        \n",
       "    </tr>\n",
       "    <tr>\n",
       "        <th>Experimenter</th>\n",
       "        \n",
       "        <td>Unknown</td>\n",
       "        \n",
       "    </tr>\n",
       "        <th>Participant</th>\n",
       "        \n",
       "        <td>Unknown</td>\n",
       "        \n",
       "    </tr>\n",
       "    <tr>\n",
       "        <th>Digitized points</th>\n",
       "        \n",
       "        <td>257 points</td>\n",
       "        \n",
       "    </tr>\n",
       "    <tr>\n",
       "        <th>Good channels</th>\n",
       "        <td>257 EEG</td>\n",
       "    </tr>\n",
       "    <tr>\n",
       "        <th>Bad channels</th>\n",
       "        <td>11, 20, 45, T9, T7, 80, 81, 82, 89, 91, CPz, 100, Pz, 110, 111, POz, 120, 130, 133, 145, 192, T8, 229, 237, 251, 256</td>\n",
       "    </tr>\n",
       "    <tr>\n",
       "        <th>EOG channels</th>\n",
       "        <td>Not available</td>\n",
       "    </tr>\n",
       "    <tr>\n",
       "        <th>ECG channels</th>\n",
       "        <td>Not available</td>\n",
       "    \n",
       "    <tr>\n",
       "        <th>Sampling frequency</th>\n",
       "        <td>250.00 Hz</td>\n",
       "    </tr>\n",
       "    \n",
       "    \n",
       "    <tr>\n",
       "        <th>Highpass</th>\n",
       "        <td>0.00 Hz</td>\n",
       "    </tr>\n",
       "    \n",
       "    \n",
       "    <tr>\n",
       "        <th>Lowpass</th>\n",
       "        <td>125.00 Hz</td>\n",
       "    </tr>\n",
       "    \n",
       "    \n",
       "    \n",
       "    <tr>\n",
       "        <th>Filenames</th>\n",
       "        <td>corrado1_VEPcheck_20170428_112415_FilterDown.eeg</td>\n",
       "    </tr>\n",
       "    \n",
       "    <tr>\n",
       "        <th>Duration</th>\n",
       "        <td>00:09:10 (HH:MM:SS)</td>\n",
       "    </tr>\n",
       "</table>"
      ],
      "text/plain": [
       "<RawBrainVision | corrado1_VEPcheck_20170428_112415_FilterDown.eeg, 257 x 137709 (550.8 s), ~359 kB, data not loaded>"
      ]
     },
     "execution_count": 1,
     "metadata": {},
     "output_type": "execute_result"
    }
   ],
   "source": [
    "import os\n",
    "import mne\n",
    "\n",
    "import pandas as pd\n",
    "import pycartool\n",
    "import numpy as np\n",
    "\n",
    "folder = fr\"C:\\Users\\ferat\\Downloads\\EEG Class - Geneva - 2022\\EEG Class - Geneva - 2022\\1 Preprocessing\\Data\\4 ICA\"\n",
    "file = \"corrado1_VEPcheck_20170428_112415_FilterDown\"\n",
    "vhdr_file = file + \".vhdr\"\n",
    "mkr_file = file + \".eeg.mrk\"\n",
    "bads_file = \"corrado.Bad tracks.2.txt\"\n",
    "\n",
    "# data\n",
    "raw = mne.io.read_raw(os.path.join(folder, vhdr_file))\n",
    "\n",
    "# markers\n",
    "df = pd.read_csv(os.path.join(folder, mkr_file), sep=\"\\t\", skiprows=1, names=['start', 'stop', 'label'])\n",
    "df['start_time'] = df['start'] / raw.info['sfreq']\n",
    "df['stop_time'] = df['stop'] / raw.info['sfreq']\n",
    "df['duration'] = df['stop_time'] - df['start_time']\n",
    "annotations = mne.Annotations(df['start_time'], df['duration'], df['label'])\n",
    "\n",
    "# bads\n",
    "with open(os.path.join(folder, bads_file), \"r\") as file:\n",
    "    # Writing data to a file\n",
    "    bads = file.readline()\n",
    "bads = bads.split()\n",
    "\n",
    "# positions\n",
    "xyz_filename = os.path.join(folder, \"..\", \"EGI 257.Geneva Average 13.10-10.xyz\")\n",
    "montage = pycartool.io.read_xyz(xyz_filename)\n",
    "\n",
    "    \n",
    "raw.set_annotations(annotations) \n",
    "raw.info['bads'] = bads\n",
    "raw.set_montage(montage)"
   ]
  },
  {
   "cell_type": "code",
   "execution_count": 6,
   "id": "8569a0d0",
   "metadata": {},
   "outputs": [
    {
     "name": "stdout",
     "output_type": "stream",
     "text": [
      "Using qt as 2D backend.\n"
     ]
    },
    {
     "data": {
      "text/plain": [
       "<mne_qt_browser._pg_figure.MNEQtBrowser at 0x248e5fb4ca0>"
      ]
     },
     "execution_count": 6,
     "metadata": {},
     "output_type": "execute_result"
    }
   ],
   "source": [
    "%matplotlib qt\n",
    "mne.viz.set_browser_backend('qt')  \n",
    "raw.plot()"
   ]
  },
  {
   "cell_type": "markdown",
   "id": "4991d46c",
   "metadata": {},
   "source": [
    "## ICA"
   ]
  },
  {
   "cell_type": "markdown",
   "id": "65733485",
   "metadata": {},
   "source": [
    "ICA is [`mne.preprocessing.ica`](https://mne.tools/stable/generated/mne.preprocessing.ICA.html?highlight=ica#mne.preprocessing.ICA)"
   ]
  },
  {
   "cell_type": "code",
   "execution_count": 2,
   "id": "b06e7575",
   "metadata": {},
   "outputs": [],
   "source": [
    "from mne.preprocessing import ICA\n",
    "\n",
    "ICA?"
   ]
  },
  {
   "cell_type": "markdown",
   "id": "ca34c700",
   "metadata": {},
   "source": [
    "### Method"
   ]
  },
  {
   "cell_type": "markdown",
   "id": "4f1c8617",
   "metadata": {},
   "source": [
    "`fastica`\n",
    "\n",
    "Aapo Hyvärinen. Fast and robust fixed-point algorithms for independent component analysis. IEEE Transactions on Neural Networks, 10(3):626–634, 1999. doi:10.1109/72.761722.\n",
    "\n",
    "`infomax`\n",
    "\n",
    "Anthony J. Bell and Terrence J. Sejnowski. An information-maximization approach to blind separation and blind deconvolution. Neural Computation, 7(6):1129–1159, 1995. doi:10.1162/neco.1995.7.6.1129.\n",
    "\n",
    "`infomax` + `fit_params=dict(extended=True)`\n",
    "\n",
    "Te-Won Lee, Mark Girolami, and Terrence J. Sejnowski. Independent component analysis using an extended infomax algorithm for mixed subgaussian and supergaussian sources. Neural Computation, 11(2):417–441, 1999. doi:10.1162/089976699300016719.\n",
    "\n",
    "`picard`\n",
    "\n",
    "Pierre Ablin, Jean-Francois Cardoso, and Alexandre Gramfort. Faster Independent Component Analysis by preconditioning with hessian approximations. IEEE Transactions on Signal Processing, 66(15):4040–4049, 2018. doi:10.1109/TSP.2018.2844203."
   ]
  },
  {
   "cell_type": "code",
   "execution_count": 3,
   "id": "834a4b8b",
   "metadata": {},
   "outputs": [],
   "source": [
    "ica = ICA(n_components=0.99,\n",
    "          noise_cov=None,\n",
    "          random_state=42,\n",
    "          method='infomax', # picard solver\n",
    "          fit_params=dict(extended=True), # extended infomax\n",
    "          max_iter='auto',\n",
    "          allow_ref_meg=False, # MEG only\n",
    "          verbose=None)"
   ]
  },
  {
   "cell_type": "markdown",
   "id": "19e0605b",
   "metadata": {},
   "source": [
    "### Fit"
   ]
  },
  {
   "cell_type": "code",
   "execution_count": null,
   "id": "e257246a",
   "metadata": {
    "scrolled": true
   },
   "outputs": [],
   "source": [
    "ica.fit?"
   ]
  },
  {
   "cell_type": "code",
   "execution_count": 4,
   "id": "53be0b63",
   "metadata": {},
   "outputs": [
    {
     "name": "stdout",
     "output_type": "stream",
     "text": [
      "Fitting ICA to data using 231 channels (please be patient, this may take a while)\n",
      "Omitting 18165 of 137709 (13.19%) samples, retaining 119544 (86.81%) samples.\n"
     ]
    },
    {
     "name": "stderr",
     "output_type": "stream",
     "text": [
      "C:\\Users\\ferat\\AppData\\Local\\Temp\\ipykernel_16352\\245588204.py:1: RuntimeWarning: The data has not been high-pass filtered. For good ICA performance, it should be high-pass filtered (e.g., with a 1.0 Hz lower bound) before fitting ICA.\n",
      "  ica.fit(raw, decim=100)\n"
     ]
    },
    {
     "name": "stdout",
     "output_type": "stream",
     "text": [
      "Selecting by explained variance: 62 components\n",
      "Computing Extended Infomax ICA\n",
      "Fitting ICA took 10.0s.\n"
     ]
    },
    {
     "data": {
      "text/html": [
       "<table class=\"table table-hover table-striped table-sm table-responsive small\">\n",
       "    <tr>\n",
       "        <th>Method</th>\n",
       "        <td>infomax</td>\n",
       "    </tr>\n",
       "    <tr>\n",
       "        <th>Fit</th>\n",
       "        <td>500 iterations on raw data (1196 samples)</td>\n",
       "    </tr>\n",
       "    \n",
       "    <tr>\n",
       "        <th>ICA components</th>\n",
       "        <td>62</td>\n",
       "    </tr>\n",
       "    <tr>\n",
       "        <th>Explained variance</th>\n",
       "        <td>99.0&nbsp;%</td>\n",
       "    </tr>\n",
       "    <tr>\n",
       "        <th>Available PCA components</th>\n",
       "        <td>231</td>\n",
       "    </tr>\n",
       "    <tr>\n",
       "        <th>Channel types</th>\n",
       "        <td>eeg</td>\n",
       "    </tr>\n",
       "    <tr>\n",
       "        <th>ICA components marked for exclusion</th>\n",
       "        <td>&mdash;</td>\n",
       "    </tr>\n",
       "    \n",
       "</table>"
      ],
      "text/plain": [
       "<ICA | raw data decomposition, method: infomax (fit in 500 iterations on 1196 samples), 62 ICA components explaining 99.0 % of variance (231 PCA components available), channel types: eeg, no sources marked for exclusion>"
      ]
     },
     "execution_count": 4,
     "metadata": {},
     "output_type": "execute_result"
    }
   ],
   "source": [
    "ica.fit(raw, decim=100)"
   ]
  },
  {
   "cell_type": "markdown",
   "id": "34cfa5af",
   "metadata": {},
   "source": [
    "### Selecting Bad components"
   ]
  },
  {
   "cell_type": "code",
   "execution_count": 8,
   "id": "40f3c185",
   "metadata": {},
   "outputs": [
    {
     "data": {
      "text/plain": [
       "[<MNEFigure size 1218.75x1055 with 20 Axes>,\n",
       " <MNEFigure size 1218.75x1055 with 20 Axes>,\n",
       " <MNEFigure size 1218.75x1055 with 20 Axes>,\n",
       " <MNEFigure size 487.5x325 with 2 Axes>]"
      ]
     },
     "execution_count": 8,
     "metadata": {},
     "output_type": "execute_result"
    },
    {
     "name": "stdout",
     "output_type": "stream",
     "text": [
      "    Using multitaper spectrum estimation with 7 DPSS windows\n",
      "Not setting metadata\n",
      "223 matching events found\n",
      "No baseline correction applied\n",
      "0 projection items activated\n"
     ]
    },
    {
     "name": "stderr",
     "output_type": "stream",
     "text": [
      "C:\\Users\\ferat\\Miniconda3\\envs\\eeg39\\lib\\site-packages\\mne\\viz\\epochs.py:543: MatplotlibDeprecationWarning: The join function was deprecated in Matplotlib 3.6 and will be removed two minor releases later.\n",
      "  ax['evoked'].get_shared_x_axes().join(ax['evoked'], ax_im)\n"
     ]
    },
    {
     "name": "stdout",
     "output_type": "stream",
     "text": [
      "    Using multitaper spectrum estimation with 7 DPSS windows\n",
      "Not setting metadata\n",
      "223 matching events found\n",
      "No baseline correction applied\n",
      "0 projection items activated\n"
     ]
    },
    {
     "name": "stderr",
     "output_type": "stream",
     "text": [
      "C:\\Users\\ferat\\Miniconda3\\envs\\eeg39\\lib\\site-packages\\mne\\viz\\epochs.py:543: MatplotlibDeprecationWarning: The join function was deprecated in Matplotlib 3.6 and will be removed two minor releases later.\n",
      "  ax['evoked'].get_shared_x_axes().join(ax['evoked'], ax_im)\n"
     ]
    },
    {
     "name": "stdout",
     "output_type": "stream",
     "text": [
      "    Using multitaper spectrum estimation with 7 DPSS windows\n",
      "Not setting metadata\n",
      "223 matching events found\n",
      "No baseline correction applied\n",
      "0 projection items activated\n"
     ]
    },
    {
     "name": "stderr",
     "output_type": "stream",
     "text": [
      "C:\\Users\\ferat\\Miniconda3\\envs\\eeg39\\lib\\site-packages\\mne\\viz\\epochs.py:543: MatplotlibDeprecationWarning: The join function was deprecated in Matplotlib 3.6 and will be removed two minor releases later.\n",
      "  ax['evoked'].get_shared_x_axes().join(ax['evoked'], ax_im)\n"
     ]
    },
    {
     "name": "stdout",
     "output_type": "stream",
     "text": [
      "    Using multitaper spectrum estimation with 7 DPSS windows\n",
      "Not setting metadata\n",
      "223 matching events found\n",
      "No baseline correction applied\n",
      "0 projection items activated\n"
     ]
    },
    {
     "name": "stderr",
     "output_type": "stream",
     "text": [
      "C:\\Users\\ferat\\Miniconda3\\envs\\eeg39\\lib\\site-packages\\mne\\viz\\epochs.py:543: MatplotlibDeprecationWarning: The join function was deprecated in Matplotlib 3.6 and will be removed two minor releases later.\n",
      "  ax['evoked'].get_shared_x_axes().join(ax['evoked'], ax_im)\n"
     ]
    },
    {
     "name": "stdout",
     "output_type": "stream",
     "text": [
      "    Using multitaper spectrum estimation with 7 DPSS windows\n",
      "Not setting metadata\n",
      "223 matching events found\n",
      "No baseline correction applied\n",
      "0 projection items activated\n"
     ]
    },
    {
     "name": "stderr",
     "output_type": "stream",
     "text": [
      "C:\\Users\\ferat\\Miniconda3\\envs\\eeg39\\lib\\site-packages\\mne\\viz\\epochs.py:543: MatplotlibDeprecationWarning: The join function was deprecated in Matplotlib 3.6 and will be removed two minor releases later.\n",
      "  ax['evoked'].get_shared_x_axes().join(ax['evoked'], ax_im)\n"
     ]
    },
    {
     "name": "stdout",
     "output_type": "stream",
     "text": [
      "    Using multitaper spectrum estimation with 7 DPSS windows\n",
      "Not setting metadata\n",
      "223 matching events found\n",
      "No baseline correction applied\n",
      "0 projection items activated\n"
     ]
    },
    {
     "name": "stderr",
     "output_type": "stream",
     "text": [
      "C:\\Users\\ferat\\Miniconda3\\envs\\eeg39\\lib\\site-packages\\mne\\viz\\epochs.py:543: MatplotlibDeprecationWarning: The join function was deprecated in Matplotlib 3.6 and will be removed two minor releases later.\n",
      "  ax['evoked'].get_shared_x_axes().join(ax['evoked'], ax_im)\n"
     ]
    },
    {
     "name": "stdout",
     "output_type": "stream",
     "text": [
      "    Using multitaper spectrum estimation with 7 DPSS windows\n",
      "Not setting metadata\n",
      "223 matching events found\n",
      "No baseline correction applied\n",
      "0 projection items activated\n"
     ]
    },
    {
     "name": "stderr",
     "output_type": "stream",
     "text": [
      "C:\\Users\\ferat\\Miniconda3\\envs\\eeg39\\lib\\site-packages\\mne\\viz\\epochs.py:543: MatplotlibDeprecationWarning: The join function was deprecated in Matplotlib 3.6 and will be removed two minor releases later.\n",
      "  ax['evoked'].get_shared_x_axes().join(ax['evoked'], ax_im)\n"
     ]
    },
    {
     "name": "stdout",
     "output_type": "stream",
     "text": [
      "    Using multitaper spectrum estimation with 7 DPSS windows\n",
      "Not setting metadata\n",
      "223 matching events found\n",
      "No baseline correction applied\n",
      "0 projection items activated\n"
     ]
    },
    {
     "name": "stderr",
     "output_type": "stream",
     "text": [
      "C:\\Users\\ferat\\Miniconda3\\envs\\eeg39\\lib\\site-packages\\mne\\viz\\epochs.py:543: MatplotlibDeprecationWarning: The join function was deprecated in Matplotlib 3.6 and will be removed two minor releases later.\n",
      "  ax['evoked'].get_shared_x_axes().join(ax['evoked'], ax_im)\n"
     ]
    }
   ],
   "source": [
    "ica.plot_components(inst=raw, sphere=100, topomap_args={'extrapolate': 'local'})"
   ]
  },
  {
   "cell_type": "code",
   "execution_count": null,
   "id": "b1f3f822",
   "metadata": {
    "scrolled": true
   },
   "outputs": [],
   "source": [
    "ica.plot_sources(inst=raw);"
   ]
  },
  {
   "cell_type": "markdown",
   "id": "60f380f5",
   "metadata": {},
   "source": [
    "### MNE ICA labels"
   ]
  },
  {
   "cell_type": "markdown",
   "id": "5f02e729",
   "metadata": {},
   "source": [
    "Li et al., (2022). MNE-ICALabel: Automatically annotating ICA components with ICLabel in Python. Journal of Open Source Software, 7(76), 4484, https://doi.org/10.21105/joss.04484\n"
   ]
  },
  {
   "cell_type": "code",
   "execution_count": null,
   "id": "28df0cc1",
   "metadata": {
    "scrolled": true
   },
   "outputs": [],
   "source": [
    "!pip install mne-icalabel"
   ]
  },
  {
   "cell_type": "code",
   "execution_count": 9,
   "id": "298184e2",
   "metadata": {
    "scrolled": true
   },
   "outputs": [
    {
     "name": "stderr",
     "output_type": "stream",
     "text": [
      "C:\\Users\\ferat\\Miniconda3\\envs\\eeg39\\lib\\site-packages\\tqdm\\auto.py:22: TqdmWarning: IProgress not found. Please update jupyter and ipywidgets. See https://ipywidgets.readthedocs.io/en/stable/user_install.html\n",
      "  from .autonotebook import tqdm as notebook_tqdm\n",
      "C:\\Users\\ferat\\AppData\\Local\\Temp\\ipykernel_16352\\3350189304.py:4: RuntimeWarning: The provided Raw instance does not seem to be referenced to a common average reference (CAR). ICLabel was designed to classify features extracted from an EEG dataset referenced to a CAR (see the 'set_eeg_reference()' method for Raw and Epochs instances).\n",
      "  label_components(raw, ica, method='iclabel')\n",
      "C:\\Users\\ferat\\AppData\\Local\\Temp\\ipykernel_16352\\3350189304.py:4: RuntimeWarning: The provided Raw instance is not filtered between 1 and 100 Hz. ICLabel was designed to classify features extracted from an EEG dataset bandpass filtered between 1 and 100 Hz (see the 'filter()' method for Raw and Epochs instances).\n",
      "  label_components(raw, ica, method='iclabel')\n"
     ]
    },
    {
     "data": {
      "text/plain": [
       "{'y_pred_proba': array([0.6666677 , 0.9886285 , 0.40531597, 0.57149345, 0.59760964,\n",
       "        0.3962925 , 0.8080262 , 0.55837977, 0.7279339 , 0.77490735,\n",
       "        0.916679  , 0.80369115, 0.50412714, 0.94437075, 0.8686347 ,\n",
       "        0.8005514 , 0.81108254, 0.9745213 , 0.94322264, 0.80952203,\n",
       "        0.8561602 , 0.7507868 , 0.7395763 , 0.91780955, 0.768227  ,\n",
       "        0.9680057 , 0.6397254 , 0.95087075, 0.89622086, 0.6469287 ,\n",
       "        0.5627378 , 0.8733658 , 0.87206966, 0.8304574 , 0.8041336 ,\n",
       "        0.81005764, 0.8677387 , 0.94117725, 0.97572064, 0.9214253 ,\n",
       "        0.60705495, 0.9737159 , 0.8963469 , 0.7008535 , 0.9833041 ,\n",
       "        0.8833132 , 0.88100374, 0.48449558, 0.56015116, 0.6975404 ,\n",
       "        0.9547759 , 0.8959241 , 0.8442444 , 0.54462004, 0.9934561 ,\n",
       "        0.8356608 , 0.83280534, 0.8027995 , 0.6907849 , 0.33180505,\n",
       "        0.57271194, 0.76940143], dtype=float32),\n",
       " 'labels': ['brain',\n",
       "  'brain',\n",
       "  'brain',\n",
       "  'other',\n",
       "  'brain',\n",
       "  'brain',\n",
       "  'brain',\n",
       "  'other',\n",
       "  'other',\n",
       "  'other',\n",
       "  'other',\n",
       "  'other',\n",
       "  'other',\n",
       "  'eye blink',\n",
       "  'other',\n",
       "  'other',\n",
       "  'other',\n",
       "  'eye blink',\n",
       "  'other',\n",
       "  'other',\n",
       "  'other',\n",
       "  'other',\n",
       "  'other',\n",
       "  'other',\n",
       "  'other',\n",
       "  'other',\n",
       "  'other',\n",
       "  'other',\n",
       "  'other',\n",
       "  'other',\n",
       "  'other',\n",
       "  'brain',\n",
       "  'other',\n",
       "  'other',\n",
       "  'eye blink',\n",
       "  'other',\n",
       "  'other',\n",
       "  'other',\n",
       "  'other',\n",
       "  'other',\n",
       "  'other',\n",
       "  'other',\n",
       "  'other',\n",
       "  'other',\n",
       "  'other',\n",
       "  'eye blink',\n",
       "  'channel noise',\n",
       "  'other',\n",
       "  'other',\n",
       "  'other',\n",
       "  'other',\n",
       "  'other',\n",
       "  'other',\n",
       "  'other',\n",
       "  'other',\n",
       "  'other',\n",
       "  'other',\n",
       "  'other',\n",
       "  'other',\n",
       "  'other',\n",
       "  'other',\n",
       "  'other']}"
      ]
     },
     "execution_count": 9,
     "metadata": {},
     "output_type": "execute_result"
    }
   ],
   "source": [
    "from mne_icalabel import label_components\n",
    "\n",
    "# assuming you have a Raw and ICA instance previously fitted\n",
    "label_components(raw, ica, method='iclabel')"
   ]
  },
  {
   "cell_type": "markdown",
   "id": "420480f2",
   "metadata": {},
   "source": [
    "### Apply"
   ]
  },
  {
   "cell_type": "code",
   "execution_count": null,
   "id": "ee88d348",
   "metadata": {},
   "outputs": [],
   "source": [
    "raw_ica = ica.apply(raw)"
   ]
  },
  {
   "cell_type": "code",
   "execution_count": null,
   "id": "9a4a354e",
   "metadata": {},
   "outputs": [],
   "source": [
    "raw_ica.plot()"
   ]
  },
  {
   "cell_type": "markdown",
   "id": "749784fa",
   "metadata": {},
   "source": [
    "### Additional Preprocessing steps"
   ]
  },
  {
   "cell_type": "code",
   "execution_count": null,
   "id": "0d287c51",
   "metadata": {},
   "outputs": [],
   "source": [
    "raw_ica.interpolate_bads()"
   ]
  },
  {
   "cell_type": "code",
   "execution_count": null,
   "id": "db9f6913",
   "metadata": {},
   "outputs": [],
   "source": [
    "raw_ica.set_eeg_reference('average')"
   ]
  },
  {
   "cell_type": "markdown",
   "id": "1a875c97",
   "metadata": {},
   "source": [
    "### Save"
   ]
  },
  {
   "cell_type": "markdown",
   "id": "f1cd5fc8",
   "metadata": {},
   "source": [
    "#### ICA"
   ]
  },
  {
   "cell_type": "code",
   "execution_count": null,
   "id": "d944f78d",
   "metadata": {},
   "outputs": [],
   "source": [
    "ica.save(\"my_ica-ica.fif\")"
   ]
  },
  {
   "cell_type": "markdown",
   "id": "1a98102e",
   "metadata": {},
   "source": [
    "#### EEG"
   ]
  },
  {
   "cell_type": "code",
   "execution_count": null,
   "id": "f100acbc",
   "metadata": {
    "scrolled": true
   },
   "outputs": [],
   "source": [
    "mne.export.export_raw('raw_ica.vhdr', raw)"
   ]
  }
 ],
 "metadata": {
  "kernelspec": {
   "display_name": "Python 3 (ipykernel)",
   "language": "python",
   "name": "python3"
  },
  "language_info": {
   "codemirror_mode": {
    "name": "ipython",
    "version": 3
   },
   "file_extension": ".py",
   "mimetype": "text/x-python",
   "name": "python",
   "nbconvert_exporter": "python",
   "pygments_lexer": "ipython3",
   "version": "3.9.13"
  }
 },
 "nbformat": 4,
 "nbformat_minor": 5
}
